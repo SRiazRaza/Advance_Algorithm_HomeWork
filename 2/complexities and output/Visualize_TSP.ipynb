{
  "cells": [
    {
      "cell_type": "code",
      "execution_count": 1,
      "metadata": {
        "id": "8e8veAh3gS3i"
      },
      "outputs": [],
      "source": [
        "import math\n",
        "import numpy as np\n",
        "import pandas as pan\n",
        "import matplotlib.pyplot as plt"
      ]
    },
    {
      "cell_type": "markdown",
      "metadata": {
        "id": "JUeeuKpsA4wO"
      },
      "source": [
        "### **Executing 2-Approx**"
      ]
    },
    {
      "cell_type": "code",
      "execution_count": 2,
      "metadata": {
        "id": "n0tB7v3fA4wa"
      },
      "outputs": [
        {
          "name": "stdout",
          "output_type": "stream",
          "text": [
            "                  0     1         2             3         4     5\n",
            "0   burma14            14      3814  4.806710e+05  0.000481  1820\n",
            "1   ulysses16          16      7903  5.803905e+05  0.000580  1041\n",
            "2   ulysses22          22      8401  9.080554e+05  0.000908   480\n",
            "3   eil51              51       581  5.293788e+06  0.005294   199\n",
            "4   berlin52           52     10114  4.389928e+06  0.004390   253\n",
            "5   kroD100           100     27112  1.728954e+07  0.017289    53\n",
            "6   kroA100           100     27210  1.371014e+07  0.013710    80\n",
            "7   ch150             150      8347  3.982625e+07  0.039826    26\n",
            "8   gr202             202     51990  9.607151e+07  0.096072    14\n",
            "9   gr229             229    180152  9.161666e+07  0.091617    11\n",
            "10  pcb442            442     73030  2.953909e+08  0.295391     3\n",
            "11  d493              493     44892  4.353379e+08  0.435338     2\n",
            "12  dsj1000          1000  25086767  1.647513e+09  1.647513     1\n"
          ]
        }
      ],
      "source": [
        "df = pan.read_csv('output_2approx.csv',header=None)\n",
        "print(df)"
      ]
    },
    {
      "cell_type": "code",
      "execution_count": 3,
      "metadata": {
        "id": "GOv08STpA4wb"
      },
      "outputs": [
        {
          "name": "stdout",
          "output_type": "stream",
          "text": [
            "            dataset  num_nodes    weight          time  time_in_s  num_calls\n",
            "0   burma14                 14      3814  4.806710e+05   0.000481       1820\n",
            "1   ulysses16               16      7903  5.803905e+05   0.000580       1041\n",
            "2   ulysses22               22      8401  9.080554e+05   0.000908        480\n",
            "3   eil51                   51       581  5.293788e+06   0.005294        199\n",
            "4   berlin52                52     10114  4.389928e+06   0.004390        253\n",
            "5   kroD100                100     27112  1.728954e+07   0.017289         53\n",
            "6   kroA100                100     27210  1.371014e+07   0.013710         80\n",
            "7   ch150                  150      8347  3.982625e+07   0.039826         26\n",
            "8   gr202                  202     51990  9.607151e+07   0.096072         14\n",
            "9   gr229                  229    180152  9.161666e+07   0.091617         11\n",
            "10  pcb442                 442     73030  2.953909e+08   0.295391          3\n",
            "11  d493                   493     44892  4.353379e+08   0.435338          2\n",
            "12  dsj1000               1000  25086767  1.647513e+09   1.647513          1\n"
          ]
        }
      ],
      "source": [
        "df_2approx=df\n",
        "#df_2approx.drop(df_2approx.columns[0], inplace=True, axis=1) # Remove the custom Index\n",
        "\n",
        "df_2approx.columns = ['dataset','num_nodes', 'weight','time', 'time_in_s', 'num_calls'] # Add Column Headings\n",
        "print(df_2approx)"
      ]
    },
    {
      "cell_type": "code",
      "execution_count": 4,
      "metadata": {
        "colab": {
          "base_uri": "https://localhost:8080/"
        },
        "id": "kke21KNdA4wc",
        "outputId": "e549ec63-e3e2-48f1-85aa-dc59185475e5"
      },
      "outputs": [
        {
          "data": {
            "text/plain": [
              "[None,\n",
              " 1.207459,\n",
              " 1.564559,\n",
              " 5.829808,\n",
              " 0.82926,\n",
              " 3.938456,\n",
              " 0.792973,\n",
              " 2.904876,\n",
              " 2.412266,\n",
              " 0.95363,\n",
              " 3.224205,\n",
              " 1.473769,\n",
              " 3.784446]"
            ]
          },
          "execution_count": 4,
          "metadata": {},
          "output_type": "execute_result"
        }
      ],
      "source": [
        "ratios = [None] + [round(df_2approx.iloc[i + 1]['time'] / df_2approx.iloc[i]['time'], 6) for i in range((df_2approx.shape[0] - 1))]\n",
        "ratios"
      ]
    },
    {
      "cell_type": "code",
      "execution_count": 5,
      "metadata": {
        "colab": {
          "base_uri": "https://localhost:8080/"
        },
        "id": "oMVX9OrrA4wd",
        "outputId": "dd6b4fec-d8ae-4c72-a624-8ff8777be2ec"
      },
      "outputs": [
        {
          "data": {
            "text/plain": [
              "[34333.642072,\n",
              " 36274.40562,\n",
              " 41275.246212,\n",
              " 103799.773377,\n",
              " 84421.701125,\n",
              " 172895.415094,\n",
              " 137101.3875,\n",
              " 265508.333333,\n",
              " 475601.520509,\n",
              " 400072.766971,\n",
              " 668305.128205,\n",
              " 883038.336714,\n",
              " 1647512.9]"
            ]
          },
          "execution_count": 5,
          "metadata": {},
          "output_type": "execute_result"
        }
      ],
      "source": [
        "c_estimates = [round(df_2approx.iloc[i]['time'] / float(df_2approx.iloc[i]['num_nodes']) , 6) for i in range(df_2approx.shape[0])]\n",
        "c_estimates"
      ]
    },
    {
      "cell_type": "code",
      "execution_count": 6,
      "metadata": {
        "colab": {
          "base_uri": "https://localhost:8080/",
          "height": 0
        },
        "id": "dA7-bzvrprRB",
        "outputId": "00f5c26c-5752-4407-c0fb-2af261ef2fa2"
      },
      "outputs": [
        {
          "data": {
            "image/png": "[encoded data removed]",
            "text/plain": [
              "<Figure size 720x504 with 1 Axes>"
            ]
          },
          "metadata": {
            "needs_background": "light"
          },
          "output_type": "display_data"
        }
      ],
      "source": [
        "reference = []\n",
        "for i in range(df_2approx.shape[0]):\n",
        "  reference = [round(1647512.9 *  float(df_2approx.iloc[i]['num_nodes']), 6) for i in range(df_2approx.shape[0])]\n",
        "\n",
        "fig = plt.figure(figsize=(10, 7))\n",
        "ax = fig.add_subplot(111)\n",
        "ax.plot(df_2approx['num_nodes'], df_2approx['time'], label='Computational complexity of the algorithm')\n",
        "ax.plot(df_2approx['num_nodes'], reference, label='Theoretical(C) computational complexity of the algorithm')\n",
        "ax.set_title('2 Approximation Algorithm')\n",
        "plt.xlabel('Number of nodes')\n",
        "plt.ylabel('Time (in nanoseconds)')\n",
        "ax.legend()\n",
        "plt.savefig('2approx.png')\n",
        "plt.show()"
      ]
    },
    {
      "cell_type": "markdown",
      "metadata": {
        "id": "NESGFKtMCRNJ"
      },
      "source": [
        "### **Executing Nearest Neighbor Algorithm**"
      ]
    },
    {
      "cell_type": "code",
      "execution_count": 7,
      "metadata": {
        "id": "lyEG9nEuCRNU"
      },
      "outputs": [],
      "source": [
        "df = pan.read_csv('output_nearest_neighbor.csv',header=None)"
      ]
    },
    {
      "cell_type": "code",
      "execution_count": 8,
      "metadata": {
        "id": "_SJR78u-CRNW"
      },
      "outputs": [],
      "source": [
        "df_near_neighbors=df\n",
        "#df_near_neighbors.drop(df_near_neighbors.columns[0], inplace=True, axis=1) # Remove the custom Index\n",
        "\n",
        "df_near_neighbors.columns = ['dataset','num_nodes', 'weight','time', 'time_in_s', 'num_calls'] # Add Column Headings\n",
        "#print(df_kruskal)"
      ]
    },
    {
      "cell_type": "code",
      "execution_count": 9,
      "metadata": {
        "colab": {
          "base_uri": "https://localhost:8080/"
        },
        "id": "GlbO-S5GCRNX",
        "outputId": "84db5f84-c54c-432e-8e29-144ccb21c94e"
      },
      "outputs": [
        {
          "data": {
            "text/plain": [
              "[None,\n",
              " 1.316193,\n",
              " 1.675299,\n",
              " 4.653786,\n",
              " 1.077714,\n",
              " 2.820838,\n",
              " 1.327301,\n",
              " 1.697371,\n",
              " 1.907128,\n",
              " 1.49602,\n",
              " 5.223723,\n",
              " 0.998857,\n",
              " 3.792382]"
            ]
          },
          "execution_count": 9,
          "metadata": {},
          "output_type": "execute_result"
        }
      ],
      "source": [
        "ratios = [None] + [round(df_near_neighbors.iloc[i + 1]['time'] / df_near_neighbors.iloc[i]['time'], 6) for i in range((df_near_neighbors.shape[0] - 1))]\n",
        "ratios"
      ]
    },
    {
      "cell_type": "code",
      "execution_count": 10,
      "metadata": {
        "colab": {
          "base_uri": "https://localhost:8080/"
        },
        "id": "rZEtAi4nCRNX",
        "outputId": "52982f9c-d19b-4c22-d367-6994aad62061"
      },
      "outputs": [
        {
          "data": {
            "text/plain": [
              "[20824.325552,\n",
              " 23982.728165,\n",
              " 29220.53701,\n",
              " 58660.683053,\n",
              " 62003.693715,\n",
              " 90949.243243,\n",
              " 120717.026786,\n",
              " 136601.064103,\n",
              " 193452.227723,\n",
              " 255285.974827,\n",
              " 690908.144796,\n",
              " 618726.673428,\n",
              " 1156798.7]"
            ]
          },
          "execution_count": 10,
          "metadata": {},
          "output_type": "execute_result"
        }
      ],
      "source": [
        "c_estimates = [round(df_near_neighbors.iloc[i]['time'] / float(df_near_neighbors.iloc[i]['num_nodes']) , 6) for i in range(df_near_neighbors.shape[0])]\n",
        "c_estimates"
      ]
    },
    {
      "cell_type": "code",
      "execution_count": 11,
      "metadata": {
        "colab": {
          "base_uri": "https://localhost:8080/",
          "height": 0
        },
        "id": "31Mv6rDOqA7S",
        "outputId": "918667bd-1ea5-40ac-d017-bbf46286d053"
      },
      "outputs": [
        {
          "data": {
            "image/png": "[encoded data removed]",
            "text/plain": [
              "<Figure size 720x504 with 1 Axes>"
            ]
          },
          "metadata": {
            "needs_background": "light"
          },
          "output_type": "display_data"
        }
      ],
      "source": [
        "reference = []\n",
        "for i in range(df_near_neighbors.shape[0]):\n",
        "  reference = [round(1156798.7 *  math.log(float(df_near_neighbors.iloc[i]['num_nodes']), 2), 6) for i in range(df_near_neighbors.shape[0])]\n",
        "\n",
        "fig = plt.figure(figsize=(10, 7))\n",
        "ax = fig.add_subplot(111)\n",
        "ax.plot(df_near_neighbors['num_nodes'], df_near_neighbors['time'], label='Computational complexity of the algorithm')\n",
        "ax.plot(df_near_neighbors['num_nodes'], reference, label='Theoretical(C) computational complexity of the algorithm')\n",
        "ax.set_title('Nearest Algorithm')\n",
        "plt.xlabel('Number of nodes')\n",
        "plt.ylabel('Time (in nanoseconds)')\n",
        "ax.legend()\n",
        "plt.savefig('near_neighbour.png')\n",
        "plt.show()"
      ]
    },
    {
      "cell_type": "markdown",
      "metadata": {
        "id": "EeRrUOvvEC4R"
      },
      "source": [
        "### **Executing Prim's Algorithm**"
      ]
    },
    {
      "cell_type": "code",
      "execution_count": 12,
      "metadata": {
        "id": "pm6juE8LEC4R"
      },
      "outputs": [],
      "source": [
        "df = pan.read_csv('output_random_insertion.csv',header=None)"
      ]
    },
    {
      "cell_type": "code",
      "execution_count": 13,
      "metadata": {
        "id": "tMtGRMtREC4S"
      },
      "outputs": [],
      "source": [
        "df_random_insertion=df\n",
        "#df_random_insertion.drop(df_random_insertion.columns[0], inplace=True, axis=1) # Remove the custom Index\n",
        "\n",
        "df_random_insertion.columns = ['dataset','num_nodes', 'weight','time', 'time_in_s', 'num_calls'] # Add Column Headings\n",
        "#print(df_prim)"
      ]
    },
    {
      "cell_type": "code",
      "execution_count": 14,
      "metadata": {
        "colab": {
          "base_uri": "https://localhost:8080/"
        },
        "id": "BWxe2tghEC4T",
        "outputId": "3545fc5d-9f14-45c3-9f6d-f308ff1b291e"
      },
      "outputs": [
        {
          "data": {
            "text/plain": [
              "[None,\n",
              " 1.085447,\n",
              " 1.733974,\n",
              " 3.917659,\n",
              " 1.826469,\n",
              " 2.040845,\n",
              " 1.001168,\n",
              " 2.357495,\n",
              " 1.764752,\n",
              " 1.727522,\n",
              " 2.592393,\n",
              " 1.336108,\n",
              " 4.208389]"
            ]
          },
          "execution_count": 14,
          "metadata": {},
          "output_type": "execute_result"
        }
      ],
      "source": [
        "ratios = [None] + [round(df_random_insertion.iloc[i + 1]['time'] / df_random_insertion.iloc[i]['time'], 6) for i in range((df_random_insertion.shape[0] - 1))]\n",
        "ratios"
      ]
    },
    {
      "cell_type": "code",
      "execution_count": 15,
      "metadata": {
        "colab": {
          "base_uri": "https://localhost:8080/"
        },
        "id": "OudX64PxEC4T",
        "outputId": "ca708012-4604-4333-e303-3f092129f426"
      },
      "outputs": [
        {
          "ename": "KeyError",
          "evalue": "'n_vertices'",
          "output_type": "error",
          "traceback": [
            "\u001b[1;31m---------------------------------------------------------------------------\u001b[0m",
            "\u001b[1;31mKeyError\u001b[0m                                  Traceback (most recent call last)",
            "File \u001b[1;32mc:\\Users\\Riaz\\AppData\\Local\\Programs\\Python\\Python310\\lib\\site-packages\\pandas\\core\\indexes\\base.py:3621\u001b[0m, in \u001b[0;36mIndex.get_loc\u001b[1;34m(self, key, method, tolerance)\u001b[0m\n\u001b[0;32m   3620\u001b[0m \u001b[39mtry\u001b[39;00m:\n\u001b[1;32m-> 3621\u001b[0m     \u001b[39mreturn\u001b[39;00m \u001b[39mself\u001b[39;49m\u001b[39m.\u001b[39;49m_engine\u001b[39m.\u001b[39;49mget_loc(casted_key)\n\u001b[0;32m   3622\u001b[0m \u001b[39mexcept\u001b[39;00m \u001b[39mKeyError\u001b[39;00m \u001b[39mas\u001b[39;00m err:\n",
            "File \u001b[1;32mc:\\Users\\Riaz\\AppData\\Local\\Programs\\Python\\Python310\\lib\\site-packages\\pandas\\_libs\\index.pyx:136\u001b[0m, in \u001b[0;36mpandas._libs.index.IndexEngine.get_loc\u001b[1;34m()\u001b[0m\n",
            "File \u001b[1;32mc:\\Users\\Riaz\\AppData\\Local\\Programs\\Python\\Python310\\lib\\site-packages\\pandas\\_libs\\index.pyx:163\u001b[0m, in \u001b[0;36mpandas._libs.index.IndexEngine.get_loc\u001b[1;34m()\u001b[0m\n",
            "File \u001b[1;32mpandas\\_libs\\hashtable_class_helper.pxi:5198\u001b[0m, in \u001b[0;36mpandas._libs.hashtable.PyObjectHashTable.get_item\u001b[1;34m()\u001b[0m\n",
            "File \u001b[1;32mpandas\\_libs\\hashtable_class_helper.pxi:5206\u001b[0m, in \u001b[0;36mpandas._libs.hashtable.PyObjectHashTable.get_item\u001b[1;34m()\u001b[0m\n",
            "\u001b[1;31mKeyError\u001b[0m: 'n_vertices'",
            "\nThe above exception was the direct cause of the following exception:\n",
            "\u001b[1;31mKeyError\u001b[0m                                  Traceback (most recent call last)",
            "\u001b[1;32md:\\University Data\\PADUA\\2nd Semester\\Adv Algo\\HomeWork\\2\\complexities and output\\Visualize_TSP.ipynb Cell 18'\u001b[0m in \u001b[0;36m<cell line: 1>\u001b[1;34m()\u001b[0m\n\u001b[1;32m----> <a href='vscode-notebook-cell:/d%3A/University%20Data/PADUA/2nd%20Semester/Adv%20Algo/HomeWork/2/complexities%20and%20output/Visualize_TSP.ipynb#ch0000017?line=0'>1</a>\u001b[0m c_estimates \u001b[39m=\u001b[39m [\u001b[39mround\u001b[39m(df_random_insertion\u001b[39m.\u001b[39miloc[i][\u001b[39m'\u001b[39m\u001b[39mtime\u001b[39m\u001b[39m'\u001b[39m] \u001b[39m/\u001b[39m  math\u001b[39m.\u001b[39mlog(\u001b[39mfloat\u001b[39m(df_random_insertion\u001b[39m.\u001b[39miloc[i][\u001b[39m'\u001b[39m\u001b[39mn_vertices\u001b[39m\u001b[39m'\u001b[39m])), \u001b[39m6\u001b[39m) \u001b[39mfor\u001b[39;00m i \u001b[39min\u001b[39;00m \u001b[39mrange\u001b[39m(df_random_insertion\u001b[39m.\u001b[39mshape[\u001b[39m0\u001b[39m])]\n\u001b[0;32m      <a href='vscode-notebook-cell:/d%3A/University%20Data/PADUA/2nd%20Semester/Adv%20Algo/HomeWork/2/complexities%20and%20output/Visualize_TSP.ipynb#ch0000017?line=1'>2</a>\u001b[0m c_estimates\n",
            "\u001b[1;32md:\\University Data\\PADUA\\2nd Semester\\Adv Algo\\HomeWork\\2\\complexities and output\\Visualize_TSP.ipynb Cell 18'\u001b[0m in \u001b[0;36m<listcomp>\u001b[1;34m(.0)\u001b[0m\n\u001b[1;32m----> <a href='vscode-notebook-cell:/d%3A/University%20Data/PADUA/2nd%20Semester/Adv%20Algo/HomeWork/2/complexities%20and%20output/Visualize_TSP.ipynb#ch0000017?line=0'>1</a>\u001b[0m c_estimates \u001b[39m=\u001b[39m [\u001b[39mround\u001b[39m(df_random_insertion\u001b[39m.\u001b[39miloc[i][\u001b[39m'\u001b[39m\u001b[39mtime\u001b[39m\u001b[39m'\u001b[39m] \u001b[39m/\u001b[39m  math\u001b[39m.\u001b[39mlog(\u001b[39mfloat\u001b[39m(df_random_insertion\u001b[39m.\u001b[39;49miloc[i][\u001b[39m'\u001b[39;49m\u001b[39mn_vertices\u001b[39;49m\u001b[39m'\u001b[39;49m])), \u001b[39m6\u001b[39m) \u001b[39mfor\u001b[39;00m i \u001b[39min\u001b[39;00m \u001b[39mrange\u001b[39m(df_random_insertion\u001b[39m.\u001b[39mshape[\u001b[39m0\u001b[39m])]\n\u001b[0;32m      <a href='vscode-notebook-cell:/d%3A/University%20Data/PADUA/2nd%20Semester/Adv%20Algo/HomeWork/2/complexities%20and%20output/Visualize_TSP.ipynb#ch0000017?line=1'>2</a>\u001b[0m c_estimates\n",
            "File \u001b[1;32mc:\\Users\\Riaz\\AppData\\Local\\Programs\\Python\\Python310\\lib\\site-packages\\pandas\\core\\series.py:958\u001b[0m, in \u001b[0;36mSeries.__getitem__\u001b[1;34m(self, key)\u001b[0m\n\u001b[0;32m    955\u001b[0m     \u001b[39mreturn\u001b[39;00m \u001b[39mself\u001b[39m\u001b[39m.\u001b[39m_values[key]\n\u001b[0;32m    957\u001b[0m \u001b[39melif\u001b[39;00m key_is_scalar:\n\u001b[1;32m--> 958\u001b[0m     \u001b[39mreturn\u001b[39;00m \u001b[39mself\u001b[39;49m\u001b[39m.\u001b[39;49m_get_value(key)\n\u001b[0;32m    960\u001b[0m \u001b[39mif\u001b[39;00m is_hashable(key):\n\u001b[0;32m    961\u001b[0m     \u001b[39m# Otherwise index.get_value will raise InvalidIndexError\u001b[39;00m\n\u001b[0;32m    962\u001b[0m     \u001b[39mtry\u001b[39;00m:\n\u001b[0;32m    963\u001b[0m         \u001b[39m# For labels that don't resolve as scalars like tuples and frozensets\u001b[39;00m\n",
            "File \u001b[1;32mc:\\Users\\Riaz\\AppData\\Local\\Programs\\Python\\Python310\\lib\\site-packages\\pandas\\core\\series.py:1069\u001b[0m, in \u001b[0;36mSeries._get_value\u001b[1;34m(self, label, takeable)\u001b[0m\n\u001b[0;32m   1066\u001b[0m     \u001b[39mreturn\u001b[39;00m \u001b[39mself\u001b[39m\u001b[39m.\u001b[39m_values[label]\n\u001b[0;32m   1068\u001b[0m \u001b[39m# Similar to Index.get_value, but we do not fall back to positional\u001b[39;00m\n\u001b[1;32m-> 1069\u001b[0m loc \u001b[39m=\u001b[39m \u001b[39mself\u001b[39;49m\u001b[39m.\u001b[39;49mindex\u001b[39m.\u001b[39;49mget_loc(label)\n\u001b[0;32m   1070\u001b[0m \u001b[39mreturn\u001b[39;00m \u001b[39mself\u001b[39m\u001b[39m.\u001b[39mindex\u001b[39m.\u001b[39m_get_values_for_loc(\u001b[39mself\u001b[39m, loc, label)\n",
            "File \u001b[1;32mc:\\Users\\Riaz\\AppData\\Local\\Programs\\Python\\Python310\\lib\\site-packages\\pandas\\core\\indexes\\base.py:3623\u001b[0m, in \u001b[0;36mIndex.get_loc\u001b[1;34m(self, key, method, tolerance)\u001b[0m\n\u001b[0;32m   3621\u001b[0m     \u001b[39mreturn\u001b[39;00m \u001b[39mself\u001b[39m\u001b[39m.\u001b[39m_engine\u001b[39m.\u001b[39mget_loc(casted_key)\n\u001b[0;32m   3622\u001b[0m \u001b[39mexcept\u001b[39;00m \u001b[39mKeyError\u001b[39;00m \u001b[39mas\u001b[39;00m err:\n\u001b[1;32m-> 3623\u001b[0m     \u001b[39mraise\u001b[39;00m \u001b[39mKeyError\u001b[39;00m(key) \u001b[39mfrom\u001b[39;00m \u001b[39merr\u001b[39;00m\n\u001b[0;32m   3624\u001b[0m \u001b[39mexcept\u001b[39;00m \u001b[39mTypeError\u001b[39;00m:\n\u001b[0;32m   3625\u001b[0m     \u001b[39m# If we have a listlike key, _check_indexing_error will raise\u001b[39;00m\n\u001b[0;32m   3626\u001b[0m     \u001b[39m#  InvalidIndexError. Otherwise we fall through and re-raise\u001b[39;00m\n\u001b[0;32m   3627\u001b[0m     \u001b[39m#  the TypeError.\u001b[39;00m\n\u001b[0;32m   3628\u001b[0m     \u001b[39mself\u001b[39m\u001b[39m.\u001b[39m_check_indexing_error(key)\n",
            "\u001b[1;31mKeyError\u001b[0m: 'n_vertices'"
          ]
        }
      ],
      "source": [
        "c_estimates = [round(df_random_insertion.iloc[i]['time'] /  math.log(float(df_random_insertion.iloc[i]['n_vertices'])), 6) for i in range(df_random_insertion.shape[0])]\n",
        "c_estimates"
      ]
    },
    {
      "cell_type": "code",
      "execution_count": null,
      "metadata": {
        "colab": {
          "base_uri": "https://localhost:8080/",
          "height": 0
        },
        "id": "rW63VbBVqPUg",
        "outputId": "e05052de-aaab-4058-9cec-75bf32725e93"
      },
      "outputs": [],
      "source": [
        "reference = []\n",
        "for i in range(df_random_insertion.shape[0]):\n",
        "  reference = [round(2874.862482 * math.log(float(df_random_insertion.iloc[i]['num_nodes']), 2), 6) for i in range(df_random_insertion.shape[0])]\n",
        "\n",
        "fig = plt.figure(figsize=(10, 7))\n",
        "ax = fig.add_subplot(111)\n",
        "ax.plot(df_random_insertion['num_nodes'], df_random_insertion['time'], label='Computational complexity of the algorithm')\n",
        "ax.plot(df_random_insertion['num_nodes'], reference, label='Theoretical(C) computational complexity of the algorithm')\n",
        "ax.set_title('Random Insertion Algorithm')\n",
        "plt.xlabel('Number of nodes')\n",
        "plt.ylabel('Time (in nanoseconds)')\n",
        "ax.legend()\n",
        "plt.savefig('random.png')\n",
        "plt.show()"
      ]
    },
    {
      "cell_type": "markdown",
      "metadata": {
        "id": "4j4CktMNTtcf"
      },
      "source": [
        "### **Comparing: Kruskal Union-Find vs Prim**"
      ]
    },
    {
      "cell_type": "code",
      "execution_count": null,
      "metadata": {
        "colab": {
          "base_uri": "https://localhost:8080/",
          "height": 0
        },
        "id": "BfBfHwiqqb71",
        "outputId": "8dd4576a-f2d0-464b-a215-293daa73c983"
      },
      "outputs": [],
      "source": [
        "fig = plt.figure(figsize=(10, 7))\n",
        "ax = fig.add_subplot(111)\n",
        "ax.plot(df_2approx['num_nodes'], df_2approx['time'], label='2-Approximation')\n",
        "ax.plot(df_near_neighbors['num_nodes'], df_near_neighbors['time'], label='Nearest Neighbor')\n",
        "ax.plot(df_random_insertion['num_nodes'], df_random_insertion['time'], label='Random Insertion')\n",
        "\n",
        "ax.set_title('Algorithm Comparison for TSP solution')\n",
        "plt.xlabel('Number of Nodes')\n",
        "plt.ylabel('Time (in nanoseconds)')\n",
        "ax.legend()\n",
        "plt.savefig('all_algo_cmparison.png')\n",
        "plt.show()"
      ]
    }
  ],
  "metadata": {
    "colab": {
      "collapsed_sections": [
        "wDsnkxlGq60Z",
        "JUeeuKpsA4wO",
        "NESGFKtMCRNJ",
        "EeRrUOvvEC4R",
        "4j4CktMNTtcf",
        "ptabqu2coSQk",
        "HyHcF0nSoSQp",
        "RI2XPmp4oSQs",
        "PvkD7E9qoSQv"
      ],
      "name": "Misurazioni MST.ipynb",
      "provenance": []
    },
    "interpreter": {
      "hash": "3d51476e91cd77fa9cca85d630b61f95bbf443b0974003316501cd1d44dcb4e5"
    },
    "kernelspec": {
      "display_name": "Python 3.10.4 64-bit",
      "language": "python",
      "name": "python3"
    },
    "language_info": {
      "codemirror_mode": {
        "name": "ipython",
        "version": 3
      },
      "file_extension": ".py",
      "mimetype": "text/x-python",
      "name": "python",
      "nbconvert_exporter": "python",
      "pygments_lexer": "ipython3",
      "version": "3.10.4"
    }
  },
  "nbformat": 4,
  "nbformat_minor": 0
}
