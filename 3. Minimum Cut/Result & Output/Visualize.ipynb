{
  "cells": [
    {
      "cell_type": "code",
      "execution_count": 1,
      "metadata": {
        "id": "8e8veAh3gS3i"
      },
      "outputs": [],
      "source": [
        "import math\n",
        "import numpy as np\n",
        "import pandas as pan\n",
        "import matplotlib.pyplot as plt"
      ]
    },
    {
      "cell_type": "markdown",
      "metadata": {
        "id": "JUeeuKpsA4wO"
      },
      "source": [
        "### **Executing Karger Stein**"
      ]
    },
    {
      "cell_type": "code",
      "execution_count": 2,
      "metadata": {
        "id": "n0tB7v3fA4wa"
      },
      "outputs": [
        {
          "name": "stdout",
          "output_type": "stream",
          "text": [
            "     0    1    2             3            4     5             6    7   8   9\n",
            "0    1   10   14  4.971423e+06     0.004971  3056  1.301694e+06   98  11   2\n",
            "1    2   10   10  4.863303e+06     0.004863   223  5.027510e+05  100  11   1\n",
            "2    3   10   12  4.616924e+06     0.004617  2302  1.185666e+06  225  11   2\n",
            "3    4   10   11  4.581093e+06     0.004581  4974  1.802942e+06  231  11   2\n",
            "4    5   20   24  3.031870e+07     0.030319  1526  7.192174e+06   31  19  10\n",
            "5    6   20   24  2.963603e+07     0.029636  1684  4.711981e+06   27  19   2\n",
            "6    7   20   27  3.138461e+07     0.031385   522  3.167014e+06   28  19   1\n",
            "7    8   20   25  2.940973e+07     0.029410  2866  7.910079e+06   34  19   1\n",
            "8    9   40   52  2.190508e+08     0.219051  2137  5.903582e+07    4  28   6\n",
            "9   10   40   54  2.321519e+08     0.232152  1446  2.258828e+07    4  28   2\n",
            "10  11   40   51  2.143653e+08     0.214365   648  2.294802e+07    4  28   7\n",
            "11  12   40   50  2.212434e+08     0.221243  2486  5.022030e+07    4  28   3\n",
            "12  13   60   82  7.920614e+08     0.792061  1282  4.093335e+08    1  35  18\n",
            "13  14   60   72  7.957754e+08     0.795775   299  1.181097e+08    1  35   5\n",
            "14  15   60   83  7.455467e+08     0.745547  2113  4.268600e+07    1  35   2\n",
            "15  16   60   79  7.565880e+08     0.756588   159  2.805380e+07    1  35   1\n",
            "16  17   80  101  1.854154e+09     1.854154   969  5.422630e+07    1  40   1\n",
            "17  18   80  105  1.853110e+09     1.853110  1756  1.444827e+08    1  40   3\n",
            "18  19   80  108  1.877795e+09     1.877795   714  4.378580e+07    1  40   1\n",
            "19  20   80  108  1.890356e+09     1.890356     0  6.571755e+08    1  40  14\n",
            "20  21  100  128  3.822480e+09     3.822480   341  9.875180e+07    1  44   1\n",
            "21  22  100  120  3.904697e+09     3.904697   890  1.699071e+08    1  44   2\n",
            "22  23  100  125  3.799816e+09     3.799815   772  7.947020e+07    1  44   1\n",
            "23  24  100  133  3.690227e+09     3.690227  1561  1.739486e+08    1  44   2\n",
            "24  25  150  197  1.468531e+10    14.685313   951  2.679777e+08    1  52   1\n",
            "25  26  150  206  1.435232e+10    14.352320   424  2.712817e+08    1  52   1\n",
            "26  27  150  195  1.412117e+10    14.121165  1153  1.623311e+09    1  52   6\n",
            "27  28  150  198  1.414129e+10    14.141293   707  8.260457e+08    1  52   3\n",
            "28  29  200  276  3.626252e+10    36.262524   484  4.379531e+09    1  58   7\n",
            "29  30  200  260  3.554782e+10    35.547824   850  7.959029e+09    1  58  13\n",
            "30  31  200  269  3.700348e+10    37.003481  1382  2.519954e+09    1  58   4\n",
            "31  32  200  274  3.576403e+10    35.764034  1102  2.441663e+09    1  58   4\n",
            "32  33  250  317  7.397771e+10    73.977707   346  1.207223e+09    1  63   1\n",
            "33  34  250  322  7.494908e+10    74.949081     0  9.386047e+09    1  63   8\n",
            "34  35  250  338  7.467894e+10    74.678935   129  1.233390e+09    1  63   1\n",
            "35  36  250  326  7.529850e+10    75.298502   670  1.164749e+09    1  63   1\n",
            "36  37  300  403  1.400000e+11   139.562219  1137  2.036614e+09    1  68   1\n",
            "37  38  300  393  1.550000e+11   154.554375   869  2.074775e+10    1  68  10\n",
            "38  39  300  408  1.440000e+11   144.312291   868  1.704109e+10    1  68   8\n",
            "39  40  300  411  1.370000e+11   137.457521  1148  2.029648e+10    1  68  10\n",
            "40  41  350  468  2.300000e+11   229.575860   676  6.436553e+09    1  71   2\n",
            "41  42  350  475  2.320000e+11   232.091306     0  6.444090e+10    1  71  20\n",
            "42  43  350  462  2.280000e+11   227.666592   818  1.627832e+10    1  71   5\n",
            "43  44  350  474  2.280000e+11   228.060040   175  6.549685e+09    1  71   2\n",
            "44  45  400  543  3.600000e+11   360.457450   508  9.508065e+09    1  75   2\n",
            "45  46  400  527  3.580000e+11   357.618545   904  9.557587e+09    1  75   2\n",
            "46  47  400  526  3.600000e+11   360.215409   362  4.979234e+09    1  75   1\n",
            "47  48  400  525  3.680000e+11   367.504688   509  3.896010e+10    1  75   8\n",
            "48  49  450  595  5.470000e+11   546.784934   400  6.970796e+09    1  78   1\n",
            "49  50  450  602  5.470000e+11   546.829103   364  6.965238e+09    1  78   1\n",
            "50  51  450  593  5.180000e+11   517.877900   336  2.647502e+10    1  78   4\n",
            "51  52  450  594  6.150000e+11   614.976514   639  1.346617e+10    1  78   2\n",
            "52  53  500  670  9.670000e+11   966.798106    43  2.331008e+10    1  80   2\n",
            "53  54  500  671  1.010000e+12  1005.748041   805  2.460000e+11    1  80  21\n",
            "54  55  500  670  8.660000e+11   866.352912   363  1.136034e+10    1  80   1\n",
            "55  56  500  666  8.480000e+11   847.632832   584  4.538525e+10    1  80   4\n"
          ]
        }
      ],
      "source": [
        "df = pan.read_csv('output_kargerstein.csv',header=None)\n",
        "print(df)"
      ]
    },
    {
      "cell_type": "code",
      "execution_count": 3,
      "metadata": {
        "id": "GOv08STpA4wb"
      },
      "outputs": [
        {
          "name": "stdout",
          "output_type": "stream",
          "text": [
            "    n_vertices  n_edges          time    time_in_s  result  discovery_time  \\\n",
            "0           10       14  4.971423e+06     0.004971    3056    1.301694e+06   \n",
            "1           10       10  4.863303e+06     0.004863     223    5.027510e+05   \n",
            "2           10       12  4.616924e+06     0.004617    2302    1.185666e+06   \n",
            "3           10       11  4.581093e+06     0.004581    4974    1.802942e+06   \n",
            "4           20       24  3.031870e+07     0.030319    1526    7.192174e+06   \n",
            "5           20       24  2.963603e+07     0.029636    1684    4.711981e+06   \n",
            "6           20       27  3.138461e+07     0.031385     522    3.167014e+06   \n",
            "7           20       25  2.940973e+07     0.029410    2866    7.910079e+06   \n",
            "8           40       52  2.190508e+08     0.219051    2137    5.903582e+07   \n",
            "9           40       54  2.321519e+08     0.232152    1446    2.258828e+07   \n",
            "10          40       51  2.143653e+08     0.214365     648    2.294802e+07   \n",
            "11          40       50  2.212434e+08     0.221243    2486    5.022030e+07   \n",
            "12          60       82  7.920614e+08     0.792061    1282    4.093335e+08   \n",
            "13          60       72  7.957754e+08     0.795775     299    1.181097e+08   \n",
            "14          60       83  7.455467e+08     0.745547    2113    4.268600e+07   \n",
            "15          60       79  7.565880e+08     0.756588     159    2.805380e+07   \n",
            "16          80      101  1.854154e+09     1.854154     969    5.422630e+07   \n",
            "17          80      105  1.853110e+09     1.853110    1756    1.444827e+08   \n",
            "18          80      108  1.877795e+09     1.877795     714    4.378580e+07   \n",
            "19          80      108  1.890356e+09     1.890356       0    6.571755e+08   \n",
            "20         100      128  3.822480e+09     3.822480     341    9.875180e+07   \n",
            "21         100      120  3.904697e+09     3.904697     890    1.699071e+08   \n",
            "22         100      125  3.799816e+09     3.799815     772    7.947020e+07   \n",
            "23         100      133  3.690227e+09     3.690227    1561    1.739486e+08   \n",
            "24         150      197  1.468531e+10    14.685313     951    2.679777e+08   \n",
            "25         150      206  1.435232e+10    14.352320     424    2.712817e+08   \n",
            "26         150      195  1.412117e+10    14.121165    1153    1.623311e+09   \n",
            "27         150      198  1.414129e+10    14.141293     707    8.260457e+08   \n",
            "28         200      276  3.626252e+10    36.262524     484    4.379531e+09   \n",
            "29         200      260  3.554782e+10    35.547824     850    7.959029e+09   \n",
            "30         200      269  3.700348e+10    37.003481    1382    2.519954e+09   \n",
            "31         200      274  3.576403e+10    35.764034    1102    2.441663e+09   \n",
            "32         250      317  7.397771e+10    73.977707     346    1.207223e+09   \n",
            "33         250      322  7.494908e+10    74.949081       0    9.386047e+09   \n",
            "34         250      338  7.467894e+10    74.678935     129    1.233390e+09   \n",
            "35         250      326  7.529850e+10    75.298502     670    1.164749e+09   \n",
            "36         300      403  1.400000e+11   139.562219    1137    2.036614e+09   \n",
            "37         300      393  1.550000e+11   154.554375     869    2.074775e+10   \n",
            "38         300      408  1.440000e+11   144.312291     868    1.704109e+10   \n",
            "39         300      411  1.370000e+11   137.457521    1148    2.029648e+10   \n",
            "40         350      468  2.300000e+11   229.575860     676    6.436553e+09   \n",
            "41         350      475  2.320000e+11   232.091306       0    6.444090e+10   \n",
            "42         350      462  2.280000e+11   227.666592     818    1.627832e+10   \n",
            "43         350      474  2.280000e+11   228.060040     175    6.549685e+09   \n",
            "44         400      543  3.600000e+11   360.457450     508    9.508065e+09   \n",
            "45         400      527  3.580000e+11   357.618545     904    9.557587e+09   \n",
            "46         400      526  3.600000e+11   360.215409     362    4.979234e+09   \n",
            "47         400      525  3.680000e+11   367.504688     509    3.896010e+10   \n",
            "48         450      595  5.470000e+11   546.784934     400    6.970796e+09   \n",
            "49         450      602  5.470000e+11   546.829103     364    6.965238e+09   \n",
            "50         450      593  5.180000e+11   517.877900     336    2.647502e+10   \n",
            "51         450      594  6.150000e+11   614.976514     639    1.346617e+10   \n",
            "52         500      670  9.670000e+11   966.798106      43    2.331008e+10   \n",
            "53         500      671  1.010000e+12  1005.748041     805    2.460000e+11   \n",
            "54         500      670  8.660000e+11   866.352912     363    1.136034e+10   \n",
            "55         500      666  8.480000e+11   847.632832     584    4.538525e+10   \n",
            "\n",
            "    rep   k  k_min  \n",
            "0    98  11      2  \n",
            "1   100  11      1  \n",
            "2   225  11      2  \n",
            "3   231  11      2  \n",
            "4    31  19     10  \n",
            "5    27  19      2  \n",
            "6    28  19      1  \n",
            "7    34  19      1  \n",
            "8     4  28      6  \n",
            "9     4  28      2  \n",
            "10    4  28      7  \n",
            "11    4  28      3  \n",
            "12    1  35     18  \n",
            "13    1  35      5  \n",
            "14    1  35      2  \n",
            "15    1  35      1  \n",
            "16    1  40      1  \n",
            "17    1  40      3  \n",
            "18    1  40      1  \n",
            "19    1  40     14  \n",
            "20    1  44      1  \n",
            "21    1  44      2  \n",
            "22    1  44      1  \n",
            "23    1  44      2  \n",
            "24    1  52      1  \n",
            "25    1  52      1  \n",
            "26    1  52      6  \n",
            "27    1  52      3  \n",
            "28    1  58      7  \n",
            "29    1  58     13  \n",
            "30    1  58      4  \n",
            "31    1  58      4  \n",
            "32    1  63      1  \n",
            "33    1  63      8  \n",
            "34    1  63      1  \n",
            "35    1  63      1  \n",
            "36    1  68      1  \n",
            "37    1  68     10  \n",
            "38    1  68      8  \n",
            "39    1  68     10  \n",
            "40    1  71      2  \n",
            "41    1  71     20  \n",
            "42    1  71      5  \n",
            "43    1  71      2  \n",
            "44    1  75      2  \n",
            "45    1  75      2  \n",
            "46    1  75      1  \n",
            "47    1  75      8  \n",
            "48    1  78      1  \n",
            "49    1  78      1  \n",
            "50    1  78      4  \n",
            "51    1  78      2  \n",
            "52    1  80      2  \n",
            "53    1  80     21  \n",
            "54    1  80      1  \n",
            "55    1  80      4  \n"
          ]
        }
      ],
      "source": [
        "df_karger=df\n",
        "df_karger.columns = ['dataset','n_vertices', 'n_edges', 'time', 'time_in_s', 'result','discovery_time','rep','k','k_min'] # Add Column Headings\n",
        "\n",
        "df_karger.drop(['dataset'], inplace=True, axis=1) # Remove the custom Index\n",
        "#print(df_karger)\n",
        "print(df_karger)"
      ]
    },
    {
      "cell_type": "code",
      "execution_count": 4,
      "metadata": {
        "colab": {
          "base_uri": "https://localhost:8080/",
          "height": 0
        },
        "id": "bwj9xJooA4wb",
        "outputId": "4c7cd6f8-7a63-459f-b60c-7e2eb2cbbb85"
      },
      "outputs": [
        {
          "data": {
            "text/html": [
              "<div>\n",
              "<style scoped>\n",
              "    .dataframe tbody tr th:only-of-type {\n",
              "        vertical-align: middle;\n",
              "    }\n",
              "\n",
              "    .dataframe tbody tr th {\n",
              "        vertical-align: top;\n",
              "    }\n",
              "\n",
              "    .dataframe thead th {\n",
              "        text-align: right;\n",
              "    }\n",
              "</style>\n",
              "<table border=\"1\" class=\"dataframe\">\n",
              "  <thead>\n",
              "    <tr style=\"text-align: right;\">\n",
              "      <th></th>\n",
              "      <th>n_vertices</th>\n",
              "      <th>mean_edges</th>\n",
              "      <th>time</th>\n",
              "    </tr>\n",
              "  </thead>\n",
              "  <tbody>\n",
              "    <tr>\n",
              "      <th>0</th>\n",
              "      <td>10</td>\n",
              "      <td>11.75</td>\n",
              "      <td>4.758186e+06</td>\n",
              "    </tr>\n",
              "    <tr>\n",
              "      <th>1</th>\n",
              "      <td>20</td>\n",
              "      <td>25.00</td>\n",
              "      <td>3.018727e+07</td>\n",
              "    </tr>\n",
              "    <tr>\n",
              "      <th>2</th>\n",
              "      <td>40</td>\n",
              "      <td>51.75</td>\n",
              "      <td>2.217028e+08</td>\n",
              "    </tr>\n",
              "    <tr>\n",
              "      <th>3</th>\n",
              "      <td>60</td>\n",
              "      <td>79.00</td>\n",
              "      <td>7.724929e+08</td>\n",
              "    </tr>\n",
              "    <tr>\n",
              "      <th>4</th>\n",
              "      <td>80</td>\n",
              "      <td>105.50</td>\n",
              "      <td>1.868854e+09</td>\n",
              "    </tr>\n",
              "    <tr>\n",
              "      <th>5</th>\n",
              "      <td>100</td>\n",
              "      <td>126.50</td>\n",
              "      <td>3.804305e+09</td>\n",
              "    </tr>\n",
              "    <tr>\n",
              "      <th>6</th>\n",
              "      <td>150</td>\n",
              "      <td>199.00</td>\n",
              "      <td>1.432502e+10</td>\n",
              "    </tr>\n",
              "    <tr>\n",
              "      <th>7</th>\n",
              "      <td>200</td>\n",
              "      <td>269.75</td>\n",
              "      <td>3.614447e+10</td>\n",
              "    </tr>\n",
              "    <tr>\n",
              "      <th>8</th>\n",
              "      <td>250</td>\n",
              "      <td>325.75</td>\n",
              "      <td>7.472606e+10</td>\n",
              "    </tr>\n",
              "    <tr>\n",
              "      <th>9</th>\n",
              "      <td>300</td>\n",
              "      <td>403.75</td>\n",
              "      <td>1.440000e+11</td>\n",
              "    </tr>\n",
              "    <tr>\n",
              "      <th>10</th>\n",
              "      <td>350</td>\n",
              "      <td>469.75</td>\n",
              "      <td>2.295000e+11</td>\n",
              "    </tr>\n",
              "    <tr>\n",
              "      <th>11</th>\n",
              "      <td>400</td>\n",
              "      <td>530.25</td>\n",
              "      <td>3.615000e+11</td>\n",
              "    </tr>\n",
              "    <tr>\n",
              "      <th>12</th>\n",
              "      <td>450</td>\n",
              "      <td>596.00</td>\n",
              "      <td>5.567500e+11</td>\n",
              "    </tr>\n",
              "  </tbody>\n",
              "</table>\n",
              "</div>"
            ],
            "text/plain": [
              "    n_vertices  mean_edges          time\n",
              "0           10       11.75  4.758186e+06\n",
              "1           20       25.00  3.018727e+07\n",
              "2           40       51.75  2.217028e+08\n",
              "3           60       79.00  7.724929e+08\n",
              "4           80      105.50  1.868854e+09\n",
              "5          100      126.50  3.804305e+09\n",
              "6          150      199.00  1.432502e+10\n",
              "7          200      269.75  3.614447e+10\n",
              "8          250      325.75  7.472606e+10\n",
              "9          300      403.75  1.440000e+11\n",
              "10         350      469.75  2.295000e+11\n",
              "11         400      530.25  3.615000e+11\n",
              "12         450      596.00  5.567500e+11"
            ]
          },
          "execution_count": 4,
          "metadata": {},
          "output_type": "execute_result"
        }
      ],
      "source": [
        "current_n_vertices = 0\n",
        "sum_times = 0.0\n",
        "sum_edges = 0\n",
        "\n",
        "df_karger_new = pan.DataFrame()\n",
        "\n",
        "for index, row in df_karger.iterrows():\n",
        "\n",
        "  if current_n_vertices == 0:\n",
        "    current_n_vertices = row['n_vertices']\n",
        "  \n",
        "  if current_n_vertices != row['n_vertices']:\n",
        "    df_karger_temp= pan.DataFrame({'n_vertices': int(current_n_vertices), 'mean_edges': (sum_edges / 4), 'time': (sum_times / 4)}, index=[0])\n",
        "    df_karger_new = pan.concat([df_karger_new, df_karger_temp], ignore_index=True)\n",
        "\n",
        "    current_n_vertices = row['n_vertices']\n",
        "    sum_times = 0.0\n",
        "    sum_edges = 0\n",
        "\n",
        "  if index == (df.shape[0]):\n",
        "    sum_times += float(row['time'])\n",
        "    sum_edges += int(row['n_edges'])\n",
        "    df_karger_temp = pan.DataFrame({'n_vertices': int(current_n_vertices), 'mean_edges': (sum_edges / 4), 'time': (sum_times / 4)}, index=[0])\n",
        "    df_karger_new = pan.concat([df_karger_new, df_karger_temp], ignore_index=True)\n",
        "  else:\n",
        "    sum_times += float(row['time'])\n",
        "    sum_edges += int(row['n_edges'])\n",
        "\n",
        "df_karger_new"
      ]
    },
    {
      "cell_type": "code",
      "execution_count": 5,
      "metadata": {
        "colab": {
          "base_uri": "https://localhost:8080/"
        },
        "id": "kke21KNdA4wc",
        "outputId": "e549ec63-e3e2-48f1-85aa-dc59185475e5"
      },
      "outputs": [
        {
          "data": {
            "text/plain": [
              "[None,\n",
              " 6.344281,\n",
              " 7.34425,\n",
              " 3.484362,\n",
              " 2.419251,\n",
              " 2.035635,\n",
              " 3.765477,\n",
              " 2.52317,\n",
              " 2.067427,\n",
              " 1.927039,\n",
              " 1.59375,\n",
              " 1.575163,\n",
              " 1.540111]"
            ]
          },
          "execution_count": 5,
          "metadata": {},
          "output_type": "execute_result"
        }
      ],
      "source": [
        "ratios = [None] + [round(df_karger_new.iloc[i + 1]['time'] / df_karger_new.iloc[i]['time'], 6) for i in range((df_karger_new.shape[0] - 1))]\n",
        "ratios"
      ]
    },
    {
      "cell_type": "code",
      "execution_count": 6,
      "metadata": {
        "colab": {
          "base_uri": "https://localhost:8080/"
        },
        "id": "oMVX9OrrA4wd",
        "outputId": "dd6b4fec-d8ae-4c72-a624-8ff8777be2ec"
      },
      "outputs": [
        {
          "data": {
            "text/plain": [
              "[40495.199972,\n",
              " 60374.533345,\n",
              " 107102.820048,\n",
              " 162973.18038,\n",
              " 221428.172393,\n",
              " 300735.549407,\n",
              " 479900.257119,\n",
              " 669962.289157,\n",
              " 917587.799233,\n",
              " 1188854.489164,\n",
              " 1395879.267087,\n",
              " 1704384.724187,\n",
              " 2075876.211782]"
            ]
          },
          "execution_count": 6,
          "metadata": {},
          "output_type": "execute_result"
        }
      ],
      "source": [
        "c_estimates = [round(df_karger_new.iloc[i]['time'] / (float(df_karger_new.iloc[i]['mean_edges']) * float(df_karger_new.iloc[i]['n_vertices'])), 6) for i in range(df_karger_new.shape[0])]\n",
        "c_estimates"
      ]
    },
    {
      "cell_type": "code",
      "execution_count": 7,
      "metadata": {
        "colab": {
          "base_uri": "https://localhost:8080/",
          "height": 0
        },
        "id": "dA7-bzvrprRB",
        "outputId": "00f5c26c-5752-4407-c0fb-2af261ef2fa2"
      },
      "outputs": [
        {
          "data": {
            "image/png": "[encoded data removed]",
            "text/plain": [
              "<Figure size 720x504 with 1 Axes>"
            ]
          },
          "metadata": {
            "needs_background": "light"
          },
          "output_type": "display_data"
        }
      ],
      "source": [
        "reference = []\n",
        "for i in range(df_karger_new.shape[0]):\n",
        "  reference = [round(2075876.211782 * float(df_karger_new.iloc[i]['mean_edges']) * float(df_karger_new.iloc[i]['n_vertices']), 6) for i in range(df_karger_new.shape[0])]\n",
        "\n",
        "fig = plt.figure(figsize=(10, 7))\n",
        "ax = fig.add_subplot(111)\n",
        "ax.plot(df_karger_new['n_vertices'], df_karger_new['time'],color='blue', label='Computational complexity of the algorithm')\n",
        "ax.plot(df_karger_new['n_vertices'], reference,color='yellow', label='Theoretical(C) computational complexity of the algorithm')\n",
        "ax.set_title('Karger Stein Algorithm')\n",
        "plt.xlabel('Number of nodes')\n",
        "plt.ylabel('Time (in nanoseconds)')\n",
        "ax.legend()\n",
        "plt.savefig('Karger_Stein.png')\n",
        "plt.show()"
      ]
    },
    {
      "cell_type": "markdown",
      "metadata": {
        "id": "NESGFKtMCRNJ"
      },
      "source": [
        "### **Executing Stoer Wagner Algorithm**"
      ]
    },
    {
      "cell_type": "code",
      "execution_count": 8,
      "metadata": {
        "id": "lyEG9nEuCRNU"
      },
      "outputs": [],
      "source": [
        "df = pan.read_csv('output_stoerwagner.csv',header=None)"
      ]
    },
    {
      "cell_type": "code",
      "execution_count": 9,
      "metadata": {
        "id": "_SJR78u-CRNW"
      },
      "outputs": [
        {
          "name": "stdout",
          "output_type": "stream",
          "text": [
            "    n_vertices  n_edges          time  time_in_s  result  rep_time\n",
            "0           10       14  2.030945e+06   0.002031    3056       460\n",
            "1           10       10  1.188435e+06   0.001188     223       682\n",
            "2           10       12  1.118221e+06   0.001118    2302       638\n",
            "3           10       11  1.011847e+06   0.001012    4974       871\n",
            "4           20       24  2.889937e+06   0.002890    1526       181\n",
            "5           20       24  4.522151e+06   0.004522    1684       354\n",
            "6           20       27  9.477301e+06   0.009477     522       152\n",
            "7           20       25  1.017284e+07   0.010173    2866       207\n",
            "8           40       52  2.071335e+07   0.020713    2137        44\n",
            "9           40       54  1.449121e+07   0.014491    1446        88\n",
            "10          40       51  1.419322e+07   0.014193     648        63\n",
            "11          40       50  1.414585e+07   0.014146    2486        86\n",
            "12          60       82  2.970786e+07   0.029708    1282        32\n",
            "13          60       72  2.982973e+07   0.029830     299        32\n",
            "14          60       83  3.209924e+07   0.032099    2113        26\n",
            "15          60       79  3.118431e+07   0.031184     159        25\n",
            "16          80      101  5.002804e+07   0.050028     969        16\n",
            "17          80      105  4.348472e+07   0.043485    1756        23\n",
            "18          80      108  3.827574e+07   0.038276     714        27\n",
            "19          80      108  4.188088e+07   0.041881    2610        25\n",
            "20         100      128  6.395319e+07   0.063953     341        16\n",
            "21         100      120  5.647312e+07   0.056473     890        17\n",
            "22         100      125  5.777429e+07   0.057774     772        17\n",
            "23         100      133  6.401352e+07   0.064014    1561        15\n",
            "24         150      197  1.406553e+08   0.140655     951         7\n",
            "25         150      206  1.543524e+08   0.154353     424         6\n",
            "26         150      195  1.451571e+08   0.145157    1153         6\n",
            "27         150      198  1.683614e+08   0.168361     707         6\n",
            "28         200      276  3.086060e+08   0.308606     484         3\n",
            "29         200      260  2.799130e+08   0.279913     850         3\n",
            "30         200      269  2.794645e+08   0.279465    1382         3\n",
            "31         200      274  2.879581e+08   0.287958    1102         3\n",
            "32         250      317  4.447423e+08   0.444742     346         2\n",
            "33         250      322  4.427214e+08   0.442721     381         2\n",
            "34         250      338  4.566535e+08   0.456653     129         2\n",
            "35         250      326  4.494059e+08   0.449406     670         2\n",
            "36         300      403  6.710638e+08   0.671064    1137         1\n",
            "37         300      393  6.775532e+08   0.677553     869         1\n",
            "38         300      408  7.003730e+08   0.700373     868         1\n",
            "39         300      411  6.902438e+08   0.690244    1148         1\n",
            "40         350      468  9.550780e+08   0.955078     676         1\n",
            "41         350      475  9.659320e+08   0.965932     290         1\n",
            "42         350      462  1.053499e+09   1.053499     818         1\n",
            "43         350      474  9.616049e+08   0.961605     175         1\n",
            "44         400      543  1.275306e+09   1.275306     508         1\n",
            "45         400      527  1.271454e+09   1.271454     904         1\n",
            "46         400      526  1.251965e+09   1.251965     362         1\n",
            "47         400      525  1.270084e+09   1.270084     509         1\n",
            "48         450      595  1.777374e+09   1.777374     400         1\n",
            "49         450      602  1.721216e+09   1.721216     364         1\n",
            "50         450      593  1.741666e+09   1.741666     336         1\n",
            "51         450      594  1.629809e+09   1.629809     639         1\n",
            "52         500      670  2.150574e+09   2.150574      43         1\n",
            "53         500      671  2.140405e+09   2.140405     805         1\n",
            "54         500      670  2.957781e+09   2.957781     363         1\n",
            "55         500      666  2.106707e+09   2.106707     584         1\n"
          ]
        }
      ],
      "source": [
        "df_stoerwagner=df\n",
        "df_stoerwagner.columns = ['dataset','n_vertices', 'n_edges', 'time', 'time_in_s', 'result','rep_time'] # Add Column Headings\n",
        "\n",
        "df_stoerwagner.drop(['dataset'], inplace=True, axis=1) # Remove the custom Index\n",
        "#print(df_karger)\n",
        "print(df_stoerwagner)"
      ]
    },
    {
      "cell_type": "code",
      "execution_count": 10,
      "metadata": {
        "colab": {
          "base_uri": "https://localhost:8080/",
          "height": 0
        },
        "id": "1wp5HeiGCRNW",
        "outputId": "c9e93939-50e4-4d66-e4e2-0d6f23ffb260"
      },
      "outputs": [
        {
          "data": {
            "text/html": [
              "<div>\n",
              "<style scoped>\n",
              "    .dataframe tbody tr th:only-of-type {\n",
              "        vertical-align: middle;\n",
              "    }\n",
              "\n",
              "    .dataframe tbody tr th {\n",
              "        vertical-align: top;\n",
              "    }\n",
              "\n",
              "    .dataframe thead th {\n",
              "        text-align: right;\n",
              "    }\n",
              "</style>\n",
              "<table border=\"1\" class=\"dataframe\">\n",
              "  <thead>\n",
              "    <tr style=\"text-align: right;\">\n",
              "      <th></th>\n",
              "      <th>n_vertices</th>\n",
              "      <th>mean_edges</th>\n",
              "      <th>time</th>\n",
              "    </tr>\n",
              "  </thead>\n",
              "  <tbody>\n",
              "    <tr>\n",
              "      <th>0</th>\n",
              "      <td>10</td>\n",
              "      <td>11.75</td>\n",
              "      <td>1.337362e+06</td>\n",
              "    </tr>\n",
              "    <tr>\n",
              "      <th>1</th>\n",
              "      <td>20</td>\n",
              "      <td>25.00</td>\n",
              "      <td>6.765557e+06</td>\n",
              "    </tr>\n",
              "    <tr>\n",
              "      <th>2</th>\n",
              "      <td>40</td>\n",
              "      <td>51.75</td>\n",
              "      <td>1.588591e+07</td>\n",
              "    </tr>\n",
              "    <tr>\n",
              "      <th>3</th>\n",
              "      <td>60</td>\n",
              "      <td>79.00</td>\n",
              "      <td>3.070528e+07</td>\n",
              "    </tr>\n",
              "    <tr>\n",
              "      <th>4</th>\n",
              "      <td>80</td>\n",
              "      <td>105.50</td>\n",
              "      <td>4.341735e+07</td>\n",
              "    </tr>\n",
              "    <tr>\n",
              "      <th>5</th>\n",
              "      <td>100</td>\n",
              "      <td>126.50</td>\n",
              "      <td>6.055353e+07</td>\n",
              "    </tr>\n",
              "    <tr>\n",
              "      <th>6</th>\n",
              "      <td>150</td>\n",
              "      <td>199.00</td>\n",
              "      <td>1.521316e+08</td>\n",
              "    </tr>\n",
              "    <tr>\n",
              "      <th>7</th>\n",
              "      <td>200</td>\n",
              "      <td>269.75</td>\n",
              "      <td>2.889854e+08</td>\n",
              "    </tr>\n",
              "    <tr>\n",
              "      <th>8</th>\n",
              "      <td>250</td>\n",
              "      <td>325.75</td>\n",
              "      <td>4.483808e+08</td>\n",
              "    </tr>\n",
              "    <tr>\n",
              "      <th>9</th>\n",
              "      <td>300</td>\n",
              "      <td>403.75</td>\n",
              "      <td>6.848084e+08</td>\n",
              "    </tr>\n",
              "    <tr>\n",
              "      <th>10</th>\n",
              "      <td>350</td>\n",
              "      <td>469.75</td>\n",
              "      <td>9.840284e+08</td>\n",
              "    </tr>\n",
              "    <tr>\n",
              "      <th>11</th>\n",
              "      <td>400</td>\n",
              "      <td>530.25</td>\n",
              "      <td>1.267202e+09</td>\n",
              "    </tr>\n",
              "    <tr>\n",
              "      <th>12</th>\n",
              "      <td>450</td>\n",
              "      <td>596.00</td>\n",
              "      <td>1.717516e+09</td>\n",
              "    </tr>\n",
              "  </tbody>\n",
              "</table>\n",
              "</div>"
            ],
            "text/plain": [
              "    n_vertices  mean_edges          time\n",
              "0           10       11.75  1.337362e+06\n",
              "1           20       25.00  6.765557e+06\n",
              "2           40       51.75  1.588591e+07\n",
              "3           60       79.00  3.070528e+07\n",
              "4           80      105.50  4.341735e+07\n",
              "5          100      126.50  6.055353e+07\n",
              "6          150      199.00  1.521316e+08\n",
              "7          200      269.75  2.889854e+08\n",
              "8          250      325.75  4.483808e+08\n",
              "9          300      403.75  6.848084e+08\n",
              "10         350      469.75  9.840284e+08\n",
              "11         400      530.25  1.267202e+09\n",
              "12         450      596.00  1.717516e+09"
            ]
          },
          "execution_count": 10,
          "metadata": {},
          "output_type": "execute_result"
        }
      ],
      "source": [
        "current_n_vertices = 0\n",
        "sum_times = 0.0\n",
        "sum_edges = 0\n",
        "\n",
        "df_stoerwagner_new = pan.DataFrame()\n",
        "\n",
        "for index, row in df_stoerwagner.iterrows():\n",
        "  \n",
        "  if current_n_vertices == 0: #Run at init\n",
        "    current_n_vertices = row['n_vertices']\n",
        "  \n",
        "  if current_n_vertices != row['n_vertices']: #for next graph which is non repetative\n",
        "    df_stoerwagner_temp = pan.DataFrame({'n_vertices': int(current_n_vertices), 'mean_edges': (sum_edges / 4), 'time': (sum_times / 4)}, index=[0])\n",
        "    df_stoerwagner_new = pan.concat([df_stoerwagner_new, df_stoerwagner_temp], ignore_index=True)\n",
        "\n",
        "    current_n_vertices = row['n_vertices']\n",
        "    sum_times = 0.0\n",
        "    sum_edges = 0\n",
        "\n",
        "  if index == (df.shape[0]):\n",
        "    sum_times += float(row['time'])\n",
        "    sum_edges += int(row['n_edges'])\n",
        "    df_stoerwagner_temp = pan.DataFrame({'n_vertices': int(current_n_vertices), 'mean_edges': (sum_edges / 4), 'time': (sum_times / 4)}, index=[0])\n",
        "    df_stoerwagner_new = pan.concat([df_stoerwagner_new, df_stoerwagner_temp], ignore_index=True)\n",
        "  else:\n",
        "    sum_times += float(row['time'])\n",
        "    sum_edges += int(row['n_edges'])\n",
        "\n",
        "df_stoerwagner_new"
      ]
    },
    {
      "cell_type": "code",
      "execution_count": 11,
      "metadata": {
        "colab": {
          "base_uri": "https://localhost:8080/"
        },
        "id": "GlbO-S5GCRNX",
        "outputId": "84db5f84-c54c-432e-8e29-144ccb21c94e"
      },
      "outputs": [
        {
          "data": {
            "text/plain": [
              "[None,\n",
              " 5.058882,\n",
              " 2.348056,\n",
              " 1.932863,\n",
              " 1.414002,\n",
              " 1.394685,\n",
              " 2.512348,\n",
              " 1.899576,\n",
              " 1.551569,\n",
              " 1.527292,\n",
              " 1.43694,\n",
              " 1.28777,\n",
              " 1.355361]"
            ]
          },
          "execution_count": 11,
          "metadata": {},
          "output_type": "execute_result"
        }
      ],
      "source": [
        "ratios = [None] + [round(df_stoerwagner_new.iloc[i + 1]['time'] / df_stoerwagner_new.iloc[i]['time'], 6) for i in range((df_stoerwagner_new.shape[0] - 1))]\n",
        "ratios"
      ]
    },
    {
      "cell_type": "code",
      "execution_count": 12,
      "metadata": {
        "colab": {
          "base_uri": "https://localhost:8080/"
        },
        "id": "rZEtAi4nCRNX",
        "outputId": "52982f9c-d19b-4c22-d367-6994aad62061"
      },
      "outputs": [
        {
          "data": {
            "text/plain": [
              "[34262.649244,\n",
              " 62616.098979,\n",
              " 57680.976626,\n",
              " 65800.183391,\n",
              " 65097.042256,\n",
              " 72049.129373,\n",
              " 105754.518571,\n",
              " 140152.852406,\n",
              " 172796.132318,\n",
              " 206119.50072,\n",
              " 247868.810372,\n",
              " 276476.177777,\n",
              " 326958.282248]"
            ]
          },
          "execution_count": 12,
          "metadata": {},
          "output_type": "execute_result"
        }
      ],
      "source": [
        "c_estimates = [round(df_stoerwagner_new.iloc[i]['time'] / (float(df_stoerwagner_new.iloc[i]['mean_edges']) * math.log(float(df_stoerwagner_new.iloc[i]['n_vertices']), 2)), 6) for i in range(df_stoerwagner_new.shape[0])]\n",
        "c_estimates"
      ]
    },
    {
      "cell_type": "code",
      "execution_count": 13,
      "metadata": {
        "colab": {
          "base_uri": "https://localhost:8080/",
          "height": 0
        },
        "id": "31Mv6rDOqA7S",
        "outputId": "918667bd-1ea5-40ac-d017-bbf46286d053"
      },
      "outputs": [
        {
          "data": {
            "image/png": "[encoded data removed]",
            "text/plain": [
              "<Figure size 720x504 with 1 Axes>"
            ]
          },
          "metadata": {
            "needs_background": "light"
          },
          "output_type": "display_data"
        }
      ],
      "source": [
        "reference = []\n",
        "for i in range(df_stoerwagner_new.shape[0]):\n",
        "  reference = [round(326958.282248 * float(df_stoerwagner_new.iloc[i]['mean_edges']) * math.log(float(df_stoerwagner_new.iloc[i]['n_vertices']), 2), 6) for i in range(df_stoerwagner_new.shape[0])]\n",
        "\n",
        "fig = plt.figure(figsize=(10, 7))\n",
        "ax = fig.add_subplot(111)\n",
        "ax.plot(df_stoerwagner_new['n_vertices'],df_stoerwagner_new['time'],color='blue', label='Computational complexity of the algorithm')\n",
        "ax.plot(df_stoerwagner_new['n_vertices'], reference,color='yellow', label='Theoretical(C) computational complexity of the algorithm')\n",
        "ax.set_title('Stoer Wagner Algorithm')\n",
        "plt.xlabel('Number of nodes')\n",
        "plt.ylabel('Time (in nanoseconds)')\n",
        "ax.legend()\n",
        "plt.savefig('stoer_wagner.png')\n",
        "plt.show()"
      ]
    },
    {
      "cell_type": "markdown",
      "metadata": {},
      "source": [
        "### **Comparing: Karger Stein Algorithm vs Stoer Wagner Algorithm**"
      ]
    },
    {
      "cell_type": "code",
      "execution_count": 14,
      "metadata": {},
      "outputs": [
        {
          "data": {
            "image/png": "[encoded data removed]",
            "text/plain": [
              "<Figure size 720x504 with 1 Axes>"
            ]
          },
          "metadata": {
            "needs_background": "light"
          },
          "output_type": "display_data"
        }
      ],
      "source": [
        "fig = plt.figure(figsize=(10, 7))\n",
        "ax = fig.add_subplot(111)\n",
        "ax.plot(df_karger_new['n_vertices'], df_karger_new['time'], label='Karger & Stein')\n",
        "ax.plot(df_stoerwagner_new['n_vertices'], df_stoerwagner_new['time'], color='red', label='Stoer & Wagner')\n",
        "ax.set_title('Karger Stein Algorithm vs Stoer Wagner')\n",
        "plt.xlabel('Number of Nodes')\n",
        "plt.ylabel('Time (in nanoseconds)')\n",
        "ax.legend()\n",
        "plt.savefig('KargerStein_StoerWagner.png')\n",
        "plt.show()"
      ]
    }
  ],
  "metadata": {
    "colab": {
      "collapsed_sections": [
        "wDsnkxlGq60Z",
        "JUeeuKpsA4wO",
        "NESGFKtMCRNJ",
        "EeRrUOvvEC4R",
        "4j4CktMNTtcf",
        "ptabqu2coSQk",
        "HyHcF0nSoSQp",
        "RI2XPmp4oSQs",
        "PvkD7E9qoSQv"
      ],
      "name": "Misurazioni MST.ipynb",
      "provenance": []
    },
    "kernelspec": {
      "display_name": "Python 3.10.4 64-bit",
      "language": "python",
      "name": "python3"
    },
    "language_info": {
      "codemirror_mode": {
        "name": "ipython",
        "version": 3
      },
      "file_extension": ".py",
      "mimetype": "text/x-python",
      "name": "python",
      "nbconvert_exporter": "python",
      "pygments_lexer": "ipython3",
      "version": "3.10.4"
    },
    "vscode": {
      "interpreter": {
        "hash": "3d51476e91cd77fa9cca85d630b61f95bbf443b0974003316501cd1d44dcb4e5"
      }
    }
  },
  "nbformat": 4,
  "nbformat_minor": 0
}
