{
  "cells": [
    {
      "cell_type": "code",
      "execution_count": 12,
      "metadata": {
        "id": "8e8veAh3gS3i"
      },
      "outputs": [],
      "source": [
        "import math\n",
        "import numpy as np\n",
        "import pandas as pan\n",
        "import matplotlib.pyplot as plt"
      ]
    },
    {
      "cell_type": "markdown",
      "metadata": {
        "id": "JUeeuKpsA4wO"
      },
      "source": [
        "### **Executing Kruskal naive**"
      ]
    },
    {
      "cell_type": "code",
      "execution_count": 13,
      "metadata": {
        "id": "n0tB7v3fA4wa"
      },
      "outputs": [
        {
          "name": "stdout",
          "output_type": "stream",
          "text": [
            "     0       1       2             3            4          5      6\n",
            "0    1      10       9  3.830959e+04     0.000038      29316  13603\n",
            "1    2      10      11  4.435140e+04     0.000044      16940  16713\n",
            "2    3      10      13  5.104495e+04     0.000051     -44448  18487\n",
            "3    4      10      10  4.378773e+04     0.000044      25217  21286\n",
            "4    5      20      24  9.882204e+04     0.000099     -32021   9787\n",
            "..  ..     ...     ...           ...          ...        ...    ...\n",
            "63  64   80000  106554  6.569830e+11   656.982776 -180793224      1\n",
            "64  65  100000  133395  1.113110e+12  1113.112826 -230698391      1\n",
            "65  66  100000  133214  1.112610e+12  1112.607324 -230168572      1\n",
            "66  67  100000  133524  1.131360e+12  1131.364650 -231393935      1\n",
            "67  68  100000  133463  1.110300e+12  1110.298442 -231011693      1\n",
            "\n",
            "[68 rows x 7 columns]\n"
          ]
        }
      ],
      "source": [
        "df = pan.read_csv('output_kruskal_n.csv',header=None)\n",
        "print(df)"
      ]
    },
    {
      "cell_type": "code",
      "execution_count": 14,
      "metadata": {
        "id": "GOv08STpA4wb"
      },
      "outputs": [],
      "source": [
        "df_kruskal=df\n",
        "df_kruskal.drop(df_kruskal.columns[0], inplace=True, axis=1) # Remove the custom Index\n",
        "\n",
        "df_kruskal.columns = ['n_vertices', 'n_edges', 'time', 'time_in_s', 'weight', 'num_calls'] # Add Column Headings\n",
        "#print(df_kruskal)"
      ]
    },
    {
      "cell_type": "code",
      "execution_count": 15,
      "metadata": {
        "colab": {
          "base_uri": "https://localhost:8080/",
          "height": 0
        },
        "id": "bwj9xJooA4wb",
        "outputId": "4c7cd6f8-7a63-459f-b60c-7e2eb2cbbb85"
      },
      "outputs": [
        {
          "data": {
            "text/html": [
              "<div>\n",
              "<style scoped>\n",
              "    .dataframe tbody tr th:only-of-type {\n",
              "        vertical-align: middle;\n",
              "    }\n",
              "\n",
              "    .dataframe tbody tr th {\n",
              "        vertical-align: top;\n",
              "    }\n",
              "\n",
              "    .dataframe thead th {\n",
              "        text-align: right;\n",
              "    }\n",
              "</style>\n",
              "<table border=\"1\" class=\"dataframe\">\n",
              "  <thead>\n",
              "    <tr style=\"text-align: right;\">\n",
              "      <th></th>\n",
              "      <th>n_vertices</th>\n",
              "      <th>mean_edges</th>\n",
              "      <th>time</th>\n",
              "    </tr>\n",
              "  </thead>\n",
              "  <tbody>\n",
              "    <tr>\n",
              "      <th>0</th>\n",
              "      <td>10</td>\n",
              "      <td>10.75</td>\n",
              "      <td>4.437342e+04</td>\n",
              "    </tr>\n",
              "    <tr>\n",
              "      <th>1</th>\n",
              "      <td>20</td>\n",
              "      <td>25.50</td>\n",
              "      <td>1.133237e+05</td>\n",
              "    </tr>\n",
              "    <tr>\n",
              "      <th>2</th>\n",
              "      <td>40</td>\n",
              "      <td>52.00</td>\n",
              "      <td>2.505108e+05</td>\n",
              "    </tr>\n",
              "    <tr>\n",
              "      <th>3</th>\n",
              "      <td>80</td>\n",
              "      <td>106.25</td>\n",
              "      <td>7.961066e+05</td>\n",
              "    </tr>\n",
              "    <tr>\n",
              "      <th>4</th>\n",
              "      <td>100</td>\n",
              "      <td>133.50</td>\n",
              "      <td>9.786582e+05</td>\n",
              "    </tr>\n",
              "    <tr>\n",
              "      <th>5</th>\n",
              "      <td>200</td>\n",
              "      <td>268.00</td>\n",
              "      <td>3.124288e+06</td>\n",
              "    </tr>\n",
              "    <tr>\n",
              "      <th>6</th>\n",
              "      <td>400</td>\n",
              "      <td>530.50</td>\n",
              "      <td>1.059513e+07</td>\n",
              "    </tr>\n",
              "    <tr>\n",
              "      <th>7</th>\n",
              "      <td>800</td>\n",
              "      <td>1061.50</td>\n",
              "      <td>3.846392e+07</td>\n",
              "    </tr>\n",
              "    <tr>\n",
              "      <th>8</th>\n",
              "      <td>1000</td>\n",
              "      <td>1321.25</td>\n",
              "      <td>6.035606e+07</td>\n",
              "    </tr>\n",
              "    <tr>\n",
              "      <th>9</th>\n",
              "      <td>2000</td>\n",
              "      <td>2670.50</td>\n",
              "      <td>2.384121e+08</td>\n",
              "    </tr>\n",
              "    <tr>\n",
              "      <th>10</th>\n",
              "      <td>4000</td>\n",
              "      <td>5345.75</td>\n",
              "      <td>9.461517e+08</td>\n",
              "    </tr>\n",
              "    <tr>\n",
              "      <th>11</th>\n",
              "      <td>8000</td>\n",
              "      <td>10698.50</td>\n",
              "      <td>3.719492e+09</td>\n",
              "    </tr>\n",
              "    <tr>\n",
              "      <th>12</th>\n",
              "      <td>10000</td>\n",
              "      <td>13309.75</td>\n",
              "      <td>5.766991e+09</td>\n",
              "    </tr>\n",
              "    <tr>\n",
              "      <th>13</th>\n",
              "      <td>20000</td>\n",
              "      <td>26709.00</td>\n",
              "      <td>2.365717e+10</td>\n",
              "    </tr>\n",
              "    <tr>\n",
              "      <th>14</th>\n",
              "      <td>40000</td>\n",
              "      <td>53355.50</td>\n",
              "      <td>1.188692e+11</td>\n",
              "    </tr>\n",
              "    <tr>\n",
              "      <th>15</th>\n",
              "      <td>80000</td>\n",
              "      <td>106671.75</td>\n",
              "      <td>6.565960e+11</td>\n",
              "    </tr>\n",
              "  </tbody>\n",
              "</table>\n",
              "</div>"
            ],
            "text/plain": [
              "    n_vertices  mean_edges          time\n",
              "0           10       10.75  4.437342e+04\n",
              "1           20       25.50  1.133237e+05\n",
              "2           40       52.00  2.505108e+05\n",
              "3           80      106.25  7.961066e+05\n",
              "4          100      133.50  9.786582e+05\n",
              "5          200      268.00  3.124288e+06\n",
              "6          400      530.50  1.059513e+07\n",
              "7          800     1061.50  3.846392e+07\n",
              "8         1000     1321.25  6.035606e+07\n",
              "9         2000     2670.50  2.384121e+08\n",
              "10        4000     5345.75  9.461517e+08\n",
              "11        8000    10698.50  3.719492e+09\n",
              "12       10000    13309.75  5.766991e+09\n",
              "13       20000    26709.00  2.365717e+10\n",
              "14       40000    53355.50  1.188692e+11\n",
              "15       80000   106671.75  6.565960e+11"
            ]
          },
          "execution_count": 15,
          "metadata": {},
          "output_type": "execute_result"
        }
      ],
      "source": [
        "current_n_vertices = 0\n",
        "sum_times = 0.0\n",
        "sum_edges = 0\n",
        "\n",
        "df_kruskal_new = pan.DataFrame()\n",
        "\n",
        "for index, row in df_kruskal.iterrows():\n",
        "\n",
        "  if current_n_vertices == 0:\n",
        "    current_n_vertices = row['n_vertices']\n",
        "  \n",
        "  if current_n_vertices != row['n_vertices']:\n",
        "    df_kruskal_temp= pan.DataFrame({'n_vertices': int(current_n_vertices), 'mean_edges': (sum_edges / 4), 'time': (sum_times / 4)}, index=[0])\n",
        "    df_kruskal_new = pan.concat([df_kruskal_new, df_kruskal_temp], ignore_index=True)\n",
        "\n",
        "    current_n_vertices = row['n_vertices']\n",
        "    sum_times = 0.0\n",
        "    sum_edges = 0\n",
        "\n",
        "  if index == (df.shape[0]):\n",
        "    sum_times += float(row['time'])\n",
        "    sum_edges += int(row['n_edges'])\n",
        "    df_kruskal_temp = pan.DataFrame({'n_vertices': int(current_n_vertices), 'mean_edges': (sum_edges / 4), 'time': (sum_times / 4)}, index=[0])\n",
        "    df_kruskal_new = pan.concat([df_kruskal_new, df_kruskal_temp], ignore_index=True)\n",
        "  else:\n",
        "    sum_times += float(row['time'])\n",
        "    sum_edges += int(row['n_edges'])\n",
        "\n",
        "df_kruskal_new"
      ]
    },
    {
      "cell_type": "code",
      "execution_count": 16,
      "metadata": {
        "colab": {
          "base_uri": "https://localhost:8080/"
        },
        "id": "kke21KNdA4wc",
        "outputId": "e549ec63-e3e2-48f1-85aa-dc59185475e5"
      },
      "outputs": [
        {
          "data": {
            "text/plain": [
              "[None,\n",
              " 2.553864,\n",
              " 2.210578,\n",
              " 3.177933,\n",
              " 1.229306,\n",
              " 3.19242,\n",
              " 3.391214,\n",
              " 3.63034,\n",
              " 1.56916,\n",
              " 3.950093,\n",
              " 3.968556,\n",
              " 3.931179,\n",
              " 1.550478,\n",
              " 4.102169,\n",
              " 5.02466,\n",
              " 5.523683]"
            ]
          },
          "execution_count": 16,
          "metadata": {},
          "output_type": "execute_result"
        }
      ],
      "source": [
        "ratios = [None] + [round(df_kruskal_new.iloc[i + 1]['time'] / df_kruskal_new.iloc[i]['time'], 6) for i in range((df_kruskal_new.shape[0] - 1))]\n",
        "ratios"
      ]
    },
    {
      "cell_type": "code",
      "execution_count": 17,
      "metadata": {
        "colab": {
          "base_uri": "https://localhost:8080/"
        },
        "id": "oMVX9OrrA4wd",
        "outputId": "dd6b4fec-d8ae-4c72-a624-8ff8777be2ec"
      },
      "outputs": [
        {
          "data": {
            "text/plain": [
              "[412.775957,\n",
              " 222.203262,\n",
              " 120.437885,\n",
              " 93.659597,\n",
              " 73.307733,\n",
              " 58.288948,\n",
              " 49.929913,\n",
              " 45.294299,\n",
              " 45.681026,\n",
              " 44.638093,\n",
              " 44.247846,\n",
              " 43.4581,\n",
              " 43.32907,\n",
              " 44.286893,\n",
              " 55.696812,\n",
              " 76.941177]"
            ]
          },
          "execution_count": 17,
          "metadata": {},
          "output_type": "execute_result"
        }
      ],
      "source": [
        "c_estimates = [round(df_kruskal_new.iloc[i]['time'] / (float(df_kruskal_new.iloc[i]['mean_edges']) * float(df_kruskal_new.iloc[i]['n_vertices'])), 6) for i in range(df_kruskal_new.shape[0])]\n",
        "c_estimates"
      ]
    },
    {
      "cell_type": "code",
      "execution_count": 18,
      "metadata": {
        "colab": {
          "base_uri": "https://localhost:8080/",
          "height": 0
        },
        "id": "dA7-bzvrprRB",
        "outputId": "00f5c26c-5752-4407-c0fb-2af261ef2fa2"
      },
      "outputs": [
        {
          "data": {
            "image/png": "[encoded data removed]",
            "text/plain": [
              "<Figure size 720x504 with 1 Axes>"
            ]
          },
          "metadata": {
            "needs_background": "light"
          },
          "output_type": "display_data"
        }
      ],
      "source": [
        "reference = []\n",
        "for i in range(df_kruskal_new.shape[0]):\n",
        "  reference = [round(85.029095 * float(df_kruskal_new.iloc[i]['mean_edges']) * float(df_kruskal_new.iloc[i]['n_vertices']), 6) for i in range(df_kruskal_new.shape[0])]\n",
        "\n",
        "fig = plt.figure(figsize=(10, 7))\n",
        "ax = fig.add_subplot(111)\n",
        "ax.plot(df_kruskal_new['n_vertices'], df_kruskal_new['time'], label='Computational complexity of the algorithm')\n",
        "ax.plot(df_kruskal_new['n_vertices'], reference, label='Theoretical(C) computational complexity of the algorithm')\n",
        "ax.set_title('Kruskal algorithm, Naive Version')\n",
        "plt.xlabel('Number of nodes')\n",
        "plt.ylabel('Time (in nanoseconds)')\n",
        "ax.legend()\n",
        "plt.savefig('kruskal_naive.png')\n",
        "plt.show()"
      ]
    },
    {
      "cell_type": "markdown",
      "metadata": {
        "id": "NESGFKtMCRNJ"
      },
      "source": [
        "### **Executing Kruskal Union-Find Algorithm**"
      ]
    },
    {
      "cell_type": "code",
      "execution_count": 19,
      "metadata": {
        "id": "lyEG9nEuCRNU"
      },
      "outputs": [],
      "source": [
        "df = pan.read_csv('output_kruskal_uf.csv',header=None)"
      ]
    },
    {
      "cell_type": "code",
      "execution_count": 20,
      "metadata": {
        "id": "_SJR78u-CRNW"
      },
      "outputs": [],
      "source": [
        "df_kruskal_uf=df\n",
        "df_kruskal_uf.drop(df_kruskal_uf.columns[0], inplace=True, axis=1) # Remove the custom Index\n",
        "\n",
        "df_kruskal_uf.columns = ['n_vertices', 'n_edges', 'time', 'time_in_s', 'weight', 'num_calls'] # Add Column Headings\n",
        "#print(df_kruskal)"
      ]
    },
    {
      "cell_type": "code",
      "execution_count": 21,
      "metadata": {
        "colab": {
          "base_uri": "https://localhost:8080/",
          "height": 0
        },
        "id": "1wp5HeiGCRNW",
        "outputId": "c9e93939-50e4-4d66-e4e2-0d6f23ffb260"
      },
      "outputs": [
        {
          "data": {
            "text/html": [
              "<div>\n",
              "<style scoped>\n",
              "    .dataframe tbody tr th:only-of-type {\n",
              "        vertical-align: middle;\n",
              "    }\n",
              "\n",
              "    .dataframe tbody tr th {\n",
              "        vertical-align: top;\n",
              "    }\n",
              "\n",
              "    .dataframe thead th {\n",
              "        text-align: right;\n",
              "    }\n",
              "</style>\n",
              "<table border=\"1\" class=\"dataframe\">\n",
              "  <thead>\n",
              "    <tr style=\"text-align: right;\">\n",
              "      <th></th>\n",
              "      <th>n_vertices</th>\n",
              "      <th>mean_edges</th>\n",
              "      <th>time</th>\n",
              "    </tr>\n",
              "  </thead>\n",
              "  <tbody>\n",
              "    <tr>\n",
              "      <th>0</th>\n",
              "      <td>10</td>\n",
              "      <td>10.75</td>\n",
              "      <td>5.885459e+04</td>\n",
              "    </tr>\n",
              "    <tr>\n",
              "      <th>1</th>\n",
              "      <td>20</td>\n",
              "      <td>25.50</td>\n",
              "      <td>1.526077e+05</td>\n",
              "    </tr>\n",
              "    <tr>\n",
              "      <th>2</th>\n",
              "      <td>40</td>\n",
              "      <td>52.00</td>\n",
              "      <td>3.051172e+05</td>\n",
              "    </tr>\n",
              "    <tr>\n",
              "      <th>3</th>\n",
              "      <td>80</td>\n",
              "      <td>106.25</td>\n",
              "      <td>6.835873e+05</td>\n",
              "    </tr>\n",
              "    <tr>\n",
              "      <th>4</th>\n",
              "      <td>100</td>\n",
              "      <td>133.50</td>\n",
              "      <td>9.222234e+05</td>\n",
              "    </tr>\n",
              "    <tr>\n",
              "      <th>5</th>\n",
              "      <td>200</td>\n",
              "      <td>268.00</td>\n",
              "      <td>1.909793e+06</td>\n",
              "    </tr>\n",
              "    <tr>\n",
              "      <th>6</th>\n",
              "      <td>400</td>\n",
              "      <td>530.50</td>\n",
              "      <td>3.542375e+06</td>\n",
              "    </tr>\n",
              "    <tr>\n",
              "      <th>7</th>\n",
              "      <td>800</td>\n",
              "      <td>1061.50</td>\n",
              "      <td>8.998524e+06</td>\n",
              "    </tr>\n",
              "    <tr>\n",
              "      <th>8</th>\n",
              "      <td>1000</td>\n",
              "      <td>1321.25</td>\n",
              "      <td>1.093919e+07</td>\n",
              "    </tr>\n",
              "    <tr>\n",
              "      <th>9</th>\n",
              "      <td>2000</td>\n",
              "      <td>2670.50</td>\n",
              "      <td>2.111125e+07</td>\n",
              "    </tr>\n",
              "    <tr>\n",
              "      <th>10</th>\n",
              "      <td>4000</td>\n",
              "      <td>5345.75</td>\n",
              "      <td>4.609145e+07</td>\n",
              "    </tr>\n",
              "    <tr>\n",
              "      <th>11</th>\n",
              "      <td>8000</td>\n",
              "      <td>10698.50</td>\n",
              "      <td>1.111046e+08</td>\n",
              "    </tr>\n",
              "    <tr>\n",
              "      <th>12</th>\n",
              "      <td>10000</td>\n",
              "      <td>13309.75</td>\n",
              "      <td>1.380057e+08</td>\n",
              "    </tr>\n",
              "    <tr>\n",
              "      <th>13</th>\n",
              "      <td>20000</td>\n",
              "      <td>26709.00</td>\n",
              "      <td>2.836072e+08</td>\n",
              "    </tr>\n",
              "    <tr>\n",
              "      <th>14</th>\n",
              "      <td>40000</td>\n",
              "      <td>53355.50</td>\n",
              "      <td>7.368960e+08</td>\n",
              "    </tr>\n",
              "    <tr>\n",
              "      <th>15</th>\n",
              "      <td>80000</td>\n",
              "      <td>106671.75</td>\n",
              "      <td>1.626273e+09</td>\n",
              "    </tr>\n",
              "  </tbody>\n",
              "</table>\n",
              "</div>"
            ],
            "text/plain": [
              "    n_vertices  mean_edges          time\n",
              "0           10       10.75  5.885459e+04\n",
              "1           20       25.50  1.526077e+05\n",
              "2           40       52.00  3.051172e+05\n",
              "3           80      106.25  6.835873e+05\n",
              "4          100      133.50  9.222234e+05\n",
              "5          200      268.00  1.909793e+06\n",
              "6          400      530.50  3.542375e+06\n",
              "7          800     1061.50  8.998524e+06\n",
              "8         1000     1321.25  1.093919e+07\n",
              "9         2000     2670.50  2.111125e+07\n",
              "10        4000     5345.75  4.609145e+07\n",
              "11        8000    10698.50  1.111046e+08\n",
              "12       10000    13309.75  1.380057e+08\n",
              "13       20000    26709.00  2.836072e+08\n",
              "14       40000    53355.50  7.368960e+08\n",
              "15       80000   106671.75  1.626273e+09"
            ]
          },
          "execution_count": 21,
          "metadata": {},
          "output_type": "execute_result"
        }
      ],
      "source": [
        "current_n_vertices = 0\n",
        "sum_times = 0.0\n",
        "sum_edges = 0\n",
        "\n",
        "df_kruskal_uf_new = pan.DataFrame()\n",
        "\n",
        "for index, row in df_kruskal_uf.iterrows():\n",
        "  \n",
        "  if current_n_vertices == 0: #Run at init\n",
        "    current_n_vertices = row['n_vertices']\n",
        "  \n",
        "  if current_n_vertices != row['n_vertices']: #for next graph which is non repetative\n",
        "    df_kruskal_uf_temp = pan.DataFrame({'n_vertices': int(current_n_vertices), 'mean_edges': (sum_edges / 4), 'time': (sum_times / 4)}, index=[0])\n",
        "    df_kruskal_uf_new = pan.concat([df_kruskal_uf_new, df_kruskal_uf_temp], ignore_index=True)\n",
        "\n",
        "    current_n_vertices = row['n_vertices']\n",
        "    sum_times = 0.0\n",
        "    sum_edges = 0\n",
        "\n",
        "  if index == (df.shape[0]):\n",
        "    sum_times += float(row['time'])\n",
        "    sum_edges += int(row['n_edges'])\n",
        "    df_kruskal_uf_temp = pan.DataFrame({'n_vertices': int(current_n_vertices), 'mean_edges': (sum_edges / 4), 'time': (sum_times / 4)}, index=[0])\n",
        "    df_kruskal_uf_new = pan.concat([df_kruskal_uf_new, df_kruskal_uf_temp], ignore_index=True)\n",
        "  else:\n",
        "    sum_times += float(row['time'])\n",
        "    sum_edges += int(row['n_edges'])\n",
        "\n",
        "df_kruskal_uf_new"
      ]
    },
    {
      "cell_type": "code",
      "execution_count": 22,
      "metadata": {
        "colab": {
          "base_uri": "https://localhost:8080/"
        },
        "id": "GlbO-S5GCRNX",
        "outputId": "84db5f84-c54c-432e-8e29-144ccb21c94e"
      },
      "outputs": [
        {
          "data": {
            "text/plain": [
              "[None,\n",
              " 2.592962,\n",
              " 1.999357,\n",
              " 2.240409,\n",
              " 1.349094,\n",
              " 2.070857,\n",
              " 1.854848,\n",
              " 2.540252,\n",
              " 1.215665,\n",
              " 1.929873,\n",
              " 2.183265,\n",
              " 2.410524,\n",
              " 1.242124,\n",
              " 2.055041,\n",
              " 2.598297,\n",
              " 2.206923]"
            ]
          },
          "execution_count": 22,
          "metadata": {},
          "output_type": "execute_result"
        }
      ],
      "source": [
        "ratios = [None] + [round(df_kruskal_uf_new.iloc[i + 1]['time'] / df_kruskal_uf_new.iloc[i]['time'], 6) for i in range((df_kruskal_uf_new.shape[0] - 1))]\n",
        "ratios"
      ]
    },
    {
      "cell_type": "code",
      "execution_count": 23,
      "metadata": {
        "colab": {
          "base_uri": "https://localhost:8080/"
        },
        "id": "rZEtAi4nCRNX",
        "outputId": "52982f9c-d19b-4c22-d367-6994aad62061"
      },
      "outputs": [
        {
          "data": {
            "text/plain": [
              "[1648.092677,\n",
              " 1384.709777,\n",
              " 1102.540075,\n",
              " 1017.689999,\n",
              " 1039.763647,\n",
              " 932.264096,\n",
              " 772.50546,\n",
              " 879.023675,\n",
              " 830.785298,\n",
              " 720.911039,\n",
              " 720.56063,\n",
              " 800.958777,\n",
              " 780.327268,\n",
              " 743.185113,\n",
              " 903.409124,\n",
              " 936.017338]"
            ]
          },
          "execution_count": 23,
          "metadata": {},
          "output_type": "execute_result"
        }
      ],
      "source": [
        "c_estimates = [round(df_kruskal_uf_new.iloc[i]['time'] / (float(df_kruskal_uf_new.iloc[i]['mean_edges']) * math.log(float(df_kruskal_uf_new.iloc[i]['n_vertices']), 2)), 6) for i in range(df_kruskal_uf_new.shape[0])]\n",
        "c_estimates"
      ]
    },
    {
      "cell_type": "code",
      "execution_count": 24,
      "metadata": {
        "colab": {
          "base_uri": "https://localhost:8080/",
          "height": 0
        },
        "id": "31Mv6rDOqA7S",
        "outputId": "918667bd-1ea5-40ac-d017-bbf46286d053"
      },
      "outputs": [
        {
          "data": {
            "image/png": "[encoded data removed]",
            "text/plain": [
              "<Figure size 720x504 with 1 Axes>"
            ]
          },
          "metadata": {
            "needs_background": "light"
          },
          "output_type": "display_data"
        }
      ],
      "source": [
        "reference = []\n",
        "for i in range(df_kruskal_uf_new.shape[0]):\n",
        "  reference = [round(719.211383 * float(df_kruskal_uf_new.iloc[i]['mean_edges']) * math.log(float(df_kruskal_uf_new.iloc[i]['n_vertices']), 2), 6) for i in range(df_kruskal_uf_new.shape[0])]\n",
        "\n",
        "fig = plt.figure(figsize=(10, 7))\n",
        "ax = fig.add_subplot(111)\n",
        "ax.plot(df_kruskal_uf_new['n_vertices'], df_kruskal_uf_new['time'], label='Computational complexity of the algorithm')\n",
        "ax.plot(df_kruskal_uf_new['n_vertices'], reference, label='Theoretical(C) computational complexity of the algorithm')\n",
        "ax.set_title('Kruskals algorithm with Union-Find')\n",
        "plt.xlabel('Number of nodes')\n",
        "plt.ylabel('Time (in nanoseconds)')\n",
        "ax.legend()\n",
        "plt.savefig('kruskal_uf.png')\n",
        "plt.show()"
      ]
    },
    {
      "cell_type": "markdown",
      "metadata": {
        "id": "EeRrUOvvEC4R"
      },
      "source": [
        "### **Executing Prim's Algorithm**"
      ]
    },
    {
      "cell_type": "code",
      "execution_count": 25,
      "metadata": {
        "id": "pm6juE8LEC4R"
      },
      "outputs": [],
      "source": [
        "df = pan.read_csv('output_prim.csv',header=None)"
      ]
    },
    {
      "cell_type": "code",
      "execution_count": 27,
      "metadata": {
        "id": "tMtGRMtREC4S"
      },
      "outputs": [],
      "source": [
        "df_prim=df\n",
        "df_prim.drop(df_prim.columns[0], inplace=True, axis=1) # Remove the custom Index\n",
        "\n",
        "df_prim.columns = ['n_vertices', 'n_edges', 'time', 'time_in_s', 'weight', 'num_calls'] # Add Column Headings\n",
        "#print(df_prim)"
      ]
    },
    {
      "cell_type": "code",
      "execution_count": 28,
      "metadata": {
        "colab": {
          "base_uri": "https://localhost:8080/",
          "height": 0
        },
        "id": "yDTs1vuKEC4S",
        "outputId": "ecb52572-4dd7-41e0-fe0f-a15716883950"
      },
      "outputs": [
        {
          "data": {
            "text/html": [
              "<div>\n",
              "<style scoped>\n",
              "    .dataframe tbody tr th:only-of-type {\n",
              "        vertical-align: middle;\n",
              "    }\n",
              "\n",
              "    .dataframe tbody tr th {\n",
              "        vertical-align: top;\n",
              "    }\n",
              "\n",
              "    .dataframe thead th {\n",
              "        text-align: right;\n",
              "    }\n",
              "</style>\n",
              "<table border=\"1\" class=\"dataframe\">\n",
              "  <thead>\n",
              "    <tr style=\"text-align: right;\">\n",
              "      <th></th>\n",
              "      <th>n_vertices</th>\n",
              "      <th>mean_edges</th>\n",
              "      <th>time</th>\n",
              "    </tr>\n",
              "  </thead>\n",
              "  <tbody>\n",
              "    <tr>\n",
              "      <th>0</th>\n",
              "      <td>10</td>\n",
              "      <td>10.75</td>\n",
              "      <td>8.580654e+04</td>\n",
              "    </tr>\n",
              "    <tr>\n",
              "      <th>1</th>\n",
              "      <td>20</td>\n",
              "      <td>25.50</td>\n",
              "      <td>2.365723e+05</td>\n",
              "    </tr>\n",
              "    <tr>\n",
              "      <th>2</th>\n",
              "      <td>40</td>\n",
              "      <td>52.00</td>\n",
              "      <td>5.778784e+05</td>\n",
              "    </tr>\n",
              "    <tr>\n",
              "      <th>3</th>\n",
              "      <td>80</td>\n",
              "      <td>106.25</td>\n",
              "      <td>1.436755e+06</td>\n",
              "    </tr>\n",
              "    <tr>\n",
              "      <th>4</th>\n",
              "      <td>100</td>\n",
              "      <td>133.50</td>\n",
              "      <td>1.909301e+06</td>\n",
              "    </tr>\n",
              "    <tr>\n",
              "      <th>5</th>\n",
              "      <td>200</td>\n",
              "      <td>268.00</td>\n",
              "      <td>4.487947e+06</td>\n",
              "    </tr>\n",
              "    <tr>\n",
              "      <th>6</th>\n",
              "      <td>400</td>\n",
              "      <td>530.50</td>\n",
              "      <td>1.035114e+07</td>\n",
              "    </tr>\n",
              "    <tr>\n",
              "      <th>7</th>\n",
              "      <td>800</td>\n",
              "      <td>1061.50</td>\n",
              "      <td>2.363657e+07</td>\n",
              "    </tr>\n",
              "    <tr>\n",
              "      <th>8</th>\n",
              "      <td>1000</td>\n",
              "      <td>1321.25</td>\n",
              "      <td>3.065295e+07</td>\n",
              "    </tr>\n",
              "    <tr>\n",
              "      <th>9</th>\n",
              "      <td>2000</td>\n",
              "      <td>2670.50</td>\n",
              "      <td>7.013267e+07</td>\n",
              "    </tr>\n",
              "    <tr>\n",
              "      <th>10</th>\n",
              "      <td>4000</td>\n",
              "      <td>5345.75</td>\n",
              "      <td>1.566314e+08</td>\n",
              "    </tr>\n",
              "    <tr>\n",
              "      <th>11</th>\n",
              "      <td>8000</td>\n",
              "      <td>10698.50</td>\n",
              "      <td>3.468405e+08</td>\n",
              "    </tr>\n",
              "    <tr>\n",
              "      <th>12</th>\n",
              "      <td>10000</td>\n",
              "      <td>13309.75</td>\n",
              "      <td>4.441535e+08</td>\n",
              "    </tr>\n",
              "    <tr>\n",
              "      <th>13</th>\n",
              "      <td>20000</td>\n",
              "      <td>26709.00</td>\n",
              "      <td>9.739820e+08</td>\n",
              "    </tr>\n",
              "    <tr>\n",
              "      <th>14</th>\n",
              "      <td>40000</td>\n",
              "      <td>53355.50</td>\n",
              "      <td>2.132251e+09</td>\n",
              "    </tr>\n",
              "    <tr>\n",
              "      <th>15</th>\n",
              "      <td>80000</td>\n",
              "      <td>106671.75</td>\n",
              "      <td>4.698825e+09</td>\n",
              "    </tr>\n",
              "  </tbody>\n",
              "</table>\n",
              "</div>"
            ],
            "text/plain": [
              "    n_vertices  mean_edges          time\n",
              "0           10       10.75  8.580654e+04\n",
              "1           20       25.50  2.365723e+05\n",
              "2           40       52.00  5.778784e+05\n",
              "3           80      106.25  1.436755e+06\n",
              "4          100      133.50  1.909301e+06\n",
              "5          200      268.00  4.487947e+06\n",
              "6          400      530.50  1.035114e+07\n",
              "7          800     1061.50  2.363657e+07\n",
              "8         1000     1321.25  3.065295e+07\n",
              "9         2000     2670.50  7.013267e+07\n",
              "10        4000     5345.75  1.566314e+08\n",
              "11        8000    10698.50  3.468405e+08\n",
              "12       10000    13309.75  4.441535e+08\n",
              "13       20000    26709.00  9.739820e+08\n",
              "14       40000    53355.50  2.132251e+09\n",
              "15       80000   106671.75  4.698825e+09"
            ]
          },
          "execution_count": 28,
          "metadata": {},
          "output_type": "execute_result"
        }
      ],
      "source": [
        "current_n_vertices = 0\n",
        "sum_times = 0.0\n",
        "sum_edges = 0\n",
        "\n",
        "df_prim_new = pan.DataFrame()\n",
        "\n",
        "for index, row in df_prim.iterrows():\n",
        "  \n",
        "  if current_n_vertices == 0:\n",
        "    current_n_vertices = row['n_vertices']\n",
        "  \n",
        "  if current_n_vertices != row['n_vertices']:\n",
        "    df_prim_temp = pan.DataFrame({'n_vertices': int(current_n_vertices), 'mean_edges': (sum_edges / 4), 'time': (sum_times / 4)}, index=[0]) #, index=range(0,16)\n",
        "    df_prim_new = pan.concat([df_prim_new, df_prim_temp], ignore_index=True)\n",
        "\n",
        "    current_n_vertices = row['n_vertices']\n",
        "    sum_times = 0.0\n",
        "    sum_edges = 0\n",
        "\n",
        "  if index == (df.shape[0]):\n",
        "    sum_times += float(row['time'])\n",
        "    sum_edges += int(row['n_edges'])\n",
        "    df_prim_temp = pan.DataFrame({'n_vertices': int(current_n_vertices), 'mean_edges': (sum_edges / 4), 'time': (sum_times / 4)}, index=[0]) #, index=range(0,16)\n",
        "    df_prim_new = pan.concat([df_prim_new, df_prim_temp], ignore_index=True)\n",
        "  else:\n",
        "    sum_times += float(row['time'])\n",
        "    sum_edges += int(row['n_edges'])\n",
        "\n",
        "df_prim_new"
      ]
    },
    {
      "cell_type": "code",
      "execution_count": 29,
      "metadata": {
        "colab": {
          "base_uri": "https://localhost:8080/"
        },
        "id": "BWxe2tghEC4T",
        "outputId": "3545fc5d-9f14-45c3-9f6d-f308ff1b291e"
      },
      "outputs": [
        {
          "data": {
            "text/plain": [
              "[None,\n",
              " 2.757042,\n",
              " 2.442714,\n",
              " 2.486259,\n",
              " 1.328898,\n",
              " 2.350571,\n",
              " 2.306432,\n",
              " 2.283475,\n",
              " 1.296844,\n",
              " 2.287958,\n",
              " 2.233359,\n",
              " 2.214374,\n",
              " 1.28057,\n",
              " 2.192895,\n",
              " 2.18921,\n",
              " 2.203692]"
            ]
          },
          "execution_count": 29,
          "metadata": {},
          "output_type": "execute_result"
        }
      ],
      "source": [
        "ratios = [None] + [round(df_prim_new.iloc[i + 1]['time'] / df_prim_new.iloc[i]['time'], 6) for i in range((df_prim_new.shape[0] - 1))]\n",
        "ratios"
      ]
    },
    {
      "cell_type": "code",
      "execution_count": 30,
      "metadata": {
        "colab": {
          "base_uri": "https://localhost:8080/"
        },
        "id": "OudX64PxEC4T",
        "outputId": "ca708012-4604-4333-e303-3f092129f426"
      },
      "outputs": [
        {
          "data": {
            "text/plain": [
              "[2402.822582,\n",
              " 2146.575175,\n",
              " 2088.16169,\n",
              " 2138.968104,\n",
              " 2152.647134,\n",
              " 2190.788481,\n",
              " 2257.331768,\n",
              " 2308.945982,\n",
              " 2327.961519,\n",
              " 2394.903854,\n",
              " 2448.66304,\n",
              " 2500.39222,\n",
              " 2511.383304,\n",
              " 2552.293485,\n",
              " 2614.066697,\n",
              " 2704.454794]"
            ]
          },
          "execution_count": 30,
          "metadata": {},
          "output_type": "execute_result"
        }
      ],
      "source": [
        "c_estimates = [round(df_prim_new.iloc[i]['time'] / (float(df_prim_new.iloc[i]['mean_edges']) * math.log(float(df_prim_new.iloc[i]['n_vertices']), 2)), 6) for i in range(df_prim_new.shape[0])]\n",
        "c_estimates"
      ]
    },
    {
      "cell_type": "code",
      "execution_count": 33,
      "metadata": {
        "colab": {
          "base_uri": "https://localhost:8080/",
          "height": 0
        },
        "id": "rW63VbBVqPUg",
        "outputId": "e05052de-aaab-4058-9cec-75bf32725e93"
      },
      "outputs": [
        {
          "data": {
            "image/png": "[encoded data removed]",
            "text/plain": [
              "<Figure size 720x504 with 1 Axes>"
            ]
          },
          "metadata": {
            "needs_background": "light"
          },
          "output_type": "display_data"
        }
      ],
      "source": [
        "reference = []\n",
        "for i in range(df_prim_new.shape[0]):\n",
        "  reference = [round(2874.862482 * float(df_prim_new.iloc[i]['mean_edges']) * math.log(float(df_prim_new.iloc[i]['n_vertices']), 2), 6) for i in range(df_prim_new.shape[0])]\n",
        "\n",
        "fig = plt.figure(figsize=(10, 7))\n",
        "ax = fig.add_subplot(111)\n",
        "ax.plot(df_prim_new['n_vertices'], df_prim_new['time'], label='Computational complexity of the algorithm')\n",
        "ax.plot(df_prim_new['n_vertices'], reference, label='Theoretical(C) computational complexity of the algorithm')\n",
        "ax.set_title('Prims Algorithm')\n",
        "plt.xlabel('Number of nodes')\n",
        "plt.ylabel('Time (in nanoseconds)')\n",
        "ax.legend()\n",
        "plt.savefig('prim.png')\n",
        "plt.show()"
      ]
    },
    {
      "cell_type": "markdown",
      "metadata": {
        "id": "4j4CktMNTtcf"
      },
      "source": [
        "### **Comparing: Kruskal Union-Find vs Prim**"
      ]
    },
    {
      "cell_type": "code",
      "execution_count": 34,
      "metadata": {
        "colab": {
          "base_uri": "https://localhost:8080/",
          "height": 0
        },
        "id": "BfBfHwiqqb71",
        "outputId": "8dd4576a-f2d0-464b-a215-293daa73c983"
      },
      "outputs": [
        {
          "data": {
            "image/png": "[encoded data removed]",
            "text/plain": [
              "<Figure size 720x504 with 1 Axes>"
            ]
          },
          "metadata": {
            "needs_background": "light"
          },
          "output_type": "display_data"
        }
      ],
      "source": [
        "fig = plt.figure(figsize=(10, 7))\n",
        "ax = fig.add_subplot(111)\n",
        "ax.plot(df_prim_new['n_vertices'], df_prim_new['time'], label='Prims')\n",
        "ax.plot(df_kruskal_uf_new['n_vertices'], df_kruskal_uf_new['time'], color='red', label='Kruskal with Union-Find')\n",
        "ax.set_title('Kruskal with Union-Find vs Prim')\n",
        "plt.xlabel('Number of Nodes')\n",
        "plt.ylabel('Time (in nanoseconds)')\n",
        "ax.legend()\n",
        "plt.savefig('kruskal_uf_vs_prim.png')\n",
        "plt.show()"
      ]
    }
  ],
  "metadata": {
    "colab": {
      "collapsed_sections": [
        "wDsnkxlGq60Z",
        "JUeeuKpsA4wO",
        "NESGFKtMCRNJ",
        "EeRrUOvvEC4R",
        "4j4CktMNTtcf",
        "ptabqu2coSQk",
        "HyHcF0nSoSQp",
        "RI2XPmp4oSQs",
        "PvkD7E9qoSQv"
      ],
      "name": "Misurazioni MST.ipynb",
      "provenance": []
    },
    "kernelspec": {
      "display_name": "Python 3",
      "name": "python3"
    },
    "language_info": {
      "codemirror_mode": {
        "name": "ipython",
        "version": 3
      },
      "file_extension": ".py",
      "mimetype": "text/x-python",
      "name": "python",
      "nbconvert_exporter": "python",
      "pygments_lexer": "ipython3",
      "version": "3.10.4"
    }
  },
  "nbformat": 4,
  "nbformat_minor": 0
}
